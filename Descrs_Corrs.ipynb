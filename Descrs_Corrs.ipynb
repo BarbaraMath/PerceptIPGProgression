{
 "cells": [
  {
   "cell_type": "code",
   "execution_count": null,
   "metadata": {},
   "outputs": [],
   "source": [
    "import pandas as pd\n",
    "from matplotlib import pyplot as plt\n",
    "import glob\n",
    "from importlib import reload\n",
    "import extract_features\n",
    "import os\n",
    "import numpy as np\n",
    "import json\n",
    "import seaborn as sns\n",
    "import results_functions\n",
    "\n",
    "json_path_project = 'S:\\\\AG\\\\AG-Bewegungsstoerungen-II\\\\LFP\\\\PROJECTS\\BATTERY\\\\'\n",
    "json_path_onedrive = 'C:\\\\Users\\\\mathiopv\\\\OneDrive - Charité - Universitätsmedizin Berlin\\\\BATTERY_LIFE\\\\'"
   ]
  },
  {
   "cell_type": "markdown",
   "metadata": {},
   "source": [
    "### Make descriptive boxplots for all"
   ]
  },
  {
   "cell_type": "code",
   "execution_count": null,
   "metadata": {},
   "outputs": [],
   "source": [
    "directory = os.path.join(json_path_onedrive,\n",
    "    'results', 'Avg_Features')\n",
    "\n",
    "reload(results_functions)\n",
    "saving = 1\n",
    "df_fu0m, df_fu3m, df_fu12m = results_functions.get_descriptives(directory, saving)\n",
    "\n",
    "'''\n",
    "with open(os.path.join(directory,\n",
    "    'Means_FU0M.pkl'), \"rb\") as file:\n",
    "    val_dat = pickle.load(file)\n",
    "'''"
   ]
  },
  {
   "cell_type": "markdown",
   "metadata": {},
   "source": [
    "### Make correlations with TEED"
   ]
  },
  {
   "cell_type": "code",
   "execution_count": null,
   "metadata": {},
   "outputs": [],
   "source": [
    "directory_TEED = os.path.join(json_path_onedrive,\n",
    "    'results', 'Stim_pars', 'TEED')\n",
    "\n",
    "\n",
    "stim_teed = pd.read_csv(os.path.join(directory_TEED, filename_teed))\n"
   ]
  },
  {
   "cell_type": "code",
   "execution_count": null,
   "metadata": {},
   "outputs": [],
   "source": [
    "directory_Feat = os.path.join(json_path_onedrive,\n",
    "    'results', 'Avg_Features')\n",
    "\n",
    "all_sums_dfs = pd.DataFrame()\n",
    "\n",
    "for filename in os.listdir(directory_Feat):\n",
    "    if filename.endswith(\"AvgFeatures.csv\"):\n",
    "        file_path = os.path.join(directory_Feat, filename)\n",
    "        df = pd.read_csv(file_path, index_col=None)\n",
    "        df = df.drop('Unnamed: 0', axis = 1)\n",
    "\n",
    "        Sub_id = filename[0:6]\n",
    "\n",
    "        fu12m_index = df[df['TimePoint'] == 'FU12M'].index[0]\n",
    "        mask = df.index < fu12m_index\n",
    "        sums_until_fu12m = df[mask].sum()\n",
    "\n",
    "        this_sums = sums_until_fu12m.to_frame().transpose()\n",
    "        this_sums = this_sums.drop(['FirstBatVal','LastBatVal'], axis = 1)\n",
    "        this_sums.insert(0, 'SubID', Sub_id)\n",
    "        this_sums['Battery_12mfu'] = df.loc[fu12m_index,'FirstBatVal']\n",
    "\n",
    "        all_sums_dfs = pd.concat([all_sums_dfs, this_sums])"
   ]
  },
  {
   "cell_type": "code",
   "execution_count": null,
   "metadata": {},
   "outputs": [],
   "source": [
    "directory_TEED = os.path.join(json_path_onedrive,\n",
    "    'results', 'Stim_pars', 'TEED')\n",
    "\n",
    "all_teeds_dfs = pd.DataFrame()\n",
    "\n",
    "for filename in os.listdir(directory_TEED):\n",
    "    if filename.endswith(\"TEDD.csv\"):\n",
    "        file_path = os.path.join(directory_TEED, filename)\n",
    "        stim_teed = pd.read_csv(file_path, index_col=None)\n",
    "\n",
    "        Total_teed = sum(stim_teed['TEDD'])\n",
    "\n",
    "        this_teed = pd.DataFrame()\n",
    "        this_teed['SubID'] = stim_teed['SubID'].unique()\n",
    "        this_teed['TEED'] = Total_teed\n",
    "\n",
    "        all_teeds_dfs = pd.concat([all_teeds_dfs, this_teed])"
   ]
  },
  {
   "cell_type": "code",
   "execution_count": null,
   "metadata": {},
   "outputs": [],
   "source": [
    "corr_df = all_sums_dfs.merge(all_teeds_dfs, on = 'SubID')\n",
    "corr_df"
   ]
  },
  {
   "cell_type": "code",
   "execution_count": null,
   "metadata": {},
   "outputs": [],
   "source": [
    "plt.scatter(corr_df['Battery_12mfu'], corr_df['TEED'])"
   ]
  }
 ],
 "metadata": {
  "kernelspec": {
   "display_name": "base",
   "language": "python",
   "name": "python3"
  },
  "language_info": {
   "codemirror_mode": {
    "name": "ipython",
    "version": 3
   },
   "file_extension": ".py",
   "mimetype": "text/x-python",
   "name": "python",
   "nbconvert_exporter": "python",
   "pygments_lexer": "ipython3",
   "version": "3.9.13"
  }
 },
 "nbformat": 4,
 "nbformat_minor": 2
}
