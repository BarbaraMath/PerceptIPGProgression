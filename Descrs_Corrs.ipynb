{
 "cells": [
  {
   "cell_type": "code",
   "execution_count": null,
   "metadata": {},
   "outputs": [],
   "source": [
    "import pandas as pd\n",
    "from matplotlib import pyplot as plt\n",
    "import glob\n",
    "from importlib import reload\n",
    "import extract_features\n",
    "import os\n",
    "import numpy as np\n",
    "import json\n",
    "\n",
    "json_path_project = 'S:\\\\AG\\\\AG-Bewegungsstoerungen-II\\\\LFP\\\\PROJECTS\\BATTERY\\\\'\n",
    "json_path_onedrive = 'C:\\\\Users\\\\mathiopv\\\\OneDrive - Charité - Universitätsmedizin Berlin\\\\BATTERY_LIFE\\\\'"
   ]
  },
  {
   "cell_type": "code",
   "execution_count": null,
   "metadata": {},
   "outputs": [],
   "source": [
    "###DESCRIPTIVES FOR ALL\n",
    "\n",
    "directory = os.path.join(json_path_onedrive,\n",
    "    'results', 'Avg_Features')"
   ]
  },
  {
   "cell_type": "code",
   "execution_count": null,
   "metadata": {},
   "outputs": [],
   "source": [
    "tbl = pd.read_csv(os.path.join(avg_feat_path,'Sub005_AvgFeatures.csv'))\n",
    "\n",
    "tbl"
   ]
  },
  {
   "cell_type": "code",
   "execution_count": null,
   "metadata": {},
   "outputs": [],
   "source": [
    "##GOALS:\n",
    "#1. Make function\n",
    "#2. Save each time point table in it\n",
    "#3. provide mean and std dictionary\n",
    "#4. Make boxplots from these\n",
    "\n",
    "df_fu0m = pd.DataFrame()\n",
    "df_fu3m = pd.DataFrame()\n",
    "df_fu12m = pd.DataFrame()\n",
    "\n",
    "for filename in os.listdir(directory):\n",
    "    if filename.endswith(\".csv\"):\n",
    "        file_path = os.path.join(directory, filename)\n",
    "        df = pd.read_csv(file_path, index_col=None)\n",
    "        df = df.drop('Unnamed: 0', axis = 1)\n",
    "        \n",
    "        subID = filename[0:6]\n",
    "\n",
    "        # Filter the data for 'FU0M', 'FU3M', and 'FU12M'\n",
    "        fu0m_data = df[df['TimePoint'] == 'FU0M']\n",
    "        fu3m_data = df[df['TimePoint'] == 'FU3M']\n",
    "        fu12m_data = df[df['TimePoint'] == 'FU12M']\n",
    "        \n",
    "        fu0m_data.insert(0, 'SubID', subID)\n",
    "        fu3m_data.insert(0, 'SubID', subID)\n",
    "        fu12m_data.insert(0, 'SubID', subID)\n",
    "\n",
    "        df_fu0m = pd.concat([df_fu0m, fu0m_data])\n",
    "        df_fu3m = pd.concat([df_fu3m, fu3m_data])\n",
    "        df_fu12m = pd.concat([df_fu12m, fu12m_data])\n"
   ]
  },
  {
   "cell_type": "code",
   "execution_count": null,
   "metadata": {},
   "outputs": [],
   "source": [
    "df_fu3m"
   ]
  },
  {
   "cell_type": "code",
   "execution_count": null,
   "metadata": {},
   "outputs": [],
   "source": [
    "# Calculate the means for all columns\n",
    "means = this_df.mean()\n",
    "\n",
    "# Divide 'Telemetry_AllSec' and 'TelemDurSecRes' by 60*2 and round to 2 decimal places\n",
    "means['Telemetry_AllSec'] = (means['Telemetry_AllSec'] /  3600)\n",
    "means['TelemDurSumSecRes'] = (means['TelemDurSumSecRes'] /  3600)\n",
    "means['TelemDurSumSecWard'] = (means['TelemDurSumSecWard'] /  3600)\n",
    "means['SensDurSumSec'] = (means['SensDurSumSec'] / 3600)\n",
    "\n",
    "print(means.round(2))\n"
   ]
  },
  {
   "cell_type": "code",
   "execution_count": null,
   "metadata": {},
   "outputs": [],
   "source": [
    "# Calculate the means for all columns\n",
    "stds = this_df.std()\n",
    "\n",
    "# Divide 'Telemetry_AllSec' and 'TelemDurSecRes' by 60*2 and round to 2 decimal places\n",
    "stds['Telemetry_AllSec'] = (stds['Telemetry_AllSec'] /  3600)\n",
    "stds['TelemDurSumSecRes'] = (stds['TelemDurSumSecRes'] /  3600)\n",
    "stds['TelemDurSumSecWard'] = (stds['TelemDurSumSecWard'] /  3600)\n",
    "stds['SensDurSumSec'] = (stds['SensDurSumSec'] / 3600)\n",
    "\n",
    "print(stds.round(2))"
   ]
  }
 ],
 "metadata": {
  "kernelspec": {
   "display_name": "base",
   "language": "python",
   "name": "python3"
  },
  "language_info": {
   "codemirror_mode": {
    "name": "ipython",
    "version": 3
   },
   "file_extension": ".py",
   "mimetype": "text/x-python",
   "name": "python",
   "nbconvert_exporter": "python",
   "pygments_lexer": "ipython3",
   "version": "3.9.13"
  }
 },
 "nbformat": 4,
 "nbformat_minor": 2
}
