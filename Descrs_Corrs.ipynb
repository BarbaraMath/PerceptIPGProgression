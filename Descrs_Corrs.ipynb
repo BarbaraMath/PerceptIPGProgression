{
 "cells": [
  {
   "cell_type": "code",
   "execution_count": 51,
   "metadata": {},
   "outputs": [],
   "source": [
    "import pandas as pd\n",
    "from matplotlib import pyplot as plt\n",
    "import glob\n",
    "from importlib import reload\n",
    "import extract_features\n",
    "import os\n",
    "import numpy as np\n",
    "import json\n",
    "import seaborn as sns\n",
    "import results_functions\n",
    "from scipy import stats\n",
    "import pickle\n",
    "from scipy.stats import wilcoxon\n",
    "\n",
    "\n",
    "json_path_project = 'S:\\\\AG\\\\AG-Bewegungsstoerungen-II\\\\LFP\\\\PROJECTS\\BATTERY\\\\'\n",
    "json_path_onedrive = 'C:\\\\Users\\\\mathiopv\\\\OneDrive - Charité - Universitätsmedizin Berlin\\\\BATTERY_LIFE\\\\'"
   ]
  },
  {
   "cell_type": "markdown",
   "metadata": {},
   "source": [
    "### Make descriptive boxplots for all"
   ]
  },
  {
   "cell_type": "code",
   "execution_count": null,
   "metadata": {},
   "outputs": [],
   "source": [
    "directory = os.path.join(json_path_onedrive,\n",
    "    'results', 'Avg_Features')\n",
    "\n",
    "reload(results_functions)\n",
    "%matplotlib qt\n",
    "saving = 1\n",
    "df_fu0m, df_fu3m, df_fu12m = results_functions.get_descriptives(directory, saving)\n",
    "\n",
    "'''\n",
    "with open(os.path.join(directory,\n",
    "    'Means_FU0M.pkl'), \"rb\") as file:\n",
    "    val_dat = pickle.load(file)\n",
    "'''"
   ]
  },
  {
   "cell_type": "markdown",
   "metadata": {},
   "source": [
    "#### Pairwise Comparisons"
   ]
  },
  {
   "cell_type": "code",
   "execution_count": null,
   "metadata": {},
   "outputs": [],
   "source": [
    "all_fus_df = pd.read_csv(os.path.join(\n",
    "    json_path_onedrive, 'results', 'Avg_Features', 'All_FollowUp_dfs.csv'\n",
    ")) \n",
    "\n",
    "all_fus_df.head()"
   ]
  },
  {
   "cell_type": "code",
   "execution_count": null,
   "metadata": {},
   "outputs": [],
   "source": [
    "# Create a dictionary to store the results for each column\n",
    "all_columns = ['Telemetry_AllMin', 'TelemDurSumSMinRes', 'TelemDurSumMinWard', 'SensDurSumMin']\n",
    "wilcoxon_results = {}\n",
    "\n",
    "# List of time points to compare\n",
    "time_points = ['FU0M', 'FU3M', 'FU12M']\n",
    "\n",
    "# Perform pairwise Wilcoxon signed-rank tests and store the results for each column\n",
    "for column in all_columns:\n",
    "    comparisons_results = {}\n",
    "    for i in range(len(time_points)-1):\n",
    "        for j in range(i+1, len(time_points)):\n",
    "            tp1, tp2 = time_points[i], time_points[j]\n",
    "            x1 = all_fus_df.loc[all_fus_df['TimePoint'] == tp1, column]\n",
    "            x2 = all_fus_df.loc[all_fus_df['TimePoint'] == tp2, column]\n",
    "\n",
    "            statistic, p_value = wilcoxon(x1, x2)\n",
    "\n",
    "            comparison_name = f\"{column}_{tp1}-{tp2}\"\n",
    "            significance = 'n.s.'  # Default value\n",
    "            if p_value < 0.001:\n",
    "                significance = '***'\n",
    "            elif p_value < 0.01:\n",
    "                significance = '**'\n",
    "            elif p_value < 0.05:\n",
    "                significance = '*'\n",
    "\n",
    "            comparisons_results[comparison_name] = {'Statistic': statistic, 'p-value': p_value, 'Significance': significance}\n",
    "    \n",
    "    wilcoxon_results[column] = comparisons_results\n",
    "\n",
    "# Convert the dictionary to a DataFrame\n",
    "results_df = pd.DataFrame({(column, key): value for column, values in wilcoxon_results.items() for key, value in values.items()}).T\n",
    "\n",
    "# Display the results DataFrame\n",
    "results_df\n"
   ]
  },
  {
   "cell_type": "code",
   "execution_count": null,
   "metadata": {},
   "outputs": [],
   "source": [
    "results_df.to_excel(os.path.join(\n",
    "    json_path_onedrive, 'results', 'Avg_Features', 'test_results','PairwiseComps.xlsx'\n",
    "))"
   ]
  },
  {
   "cell_type": "code",
   "execution_count": null,
   "metadata": {},
   "outputs": [],
   "source": [
    "all_fus_df[(all_fus_df['TimePoint'] == 'FU0M') & (all_fus_df['Electrode'] == 'SenSight')]"
   ]
  },
  {
   "cell_type": "markdown",
   "metadata": {},
   "source": [
    "### Make correlations with TEED"
   ]
  },
  {
   "cell_type": "code",
   "execution_count": null,
   "metadata": {},
   "outputs": [],
   "source": [
    "directory_Feat = os.path.join(json_path_onedrive,\n",
    "    'results', 'Avg_Features')\n",
    "\n",
    "directory_TEED = os.path.join(json_path_onedrive,\n",
    "    'results', 'Stim_pars', 'TEED')\n",
    "\n",
    "directory_corrs = os.path.join(json_path_onedrive,\n",
    "    'results', 'Correlations')\n",
    "\n",
    "saving = 1"
   ]
  },
  {
   "cell_type": "code",
   "execution_count": null,
   "metadata": {},
   "outputs": [],
   "source": [
    "reload(results_functions)\n",
    "\n",
    "corr_df, correlation_stats = results_functions.get_battery_corrs(directory_Feat, \n",
    "                                                                 directory_TEED, \n",
    "                                                                 directory_corrs, \n",
    "                                                                 saving)\n",
    "\n"
   ]
  },
  {
   "cell_type": "code",
   "execution_count": null,
   "metadata": {},
   "outputs": [],
   "source": [
    "correlation_stats"
   ]
  },
  {
   "cell_type": "code",
   "execution_count": null,
   "metadata": {},
   "outputs": [],
   "source": [
    "check_df = pd.read_csv(os.path.join(\n",
    "    json_path_onedrive, 'results', 'Avg_Features', 'Sub019_AvgFeatures.csv'\n",
    "))\n",
    "\n",
    "check_df"
   ]
  },
  {
   "cell_type": "code",
   "execution_count": null,
   "metadata": {},
   "outputs": [],
   "source": [
    "with open(os.path.join(directory_corrs,\n",
    "    'Stat_results.pkl'), \"rb\") as file:\n",
    "    val_dat = pickle.load(file)\n",
    "val_dat"
   ]
  },
  {
   "cell_type": "code",
   "execution_count": null,
   "metadata": {},
   "outputs": [],
   "source": [
    "71077.0/3600"
   ]
  },
  {
   "cell_type": "code",
   "execution_count": null,
   "metadata": {},
   "outputs": [],
   "source": []
  }
 ],
 "metadata": {
  "kernelspec": {
   "display_name": "base",
   "language": "python",
   "name": "python3"
  },
  "language_info": {
   "codemirror_mode": {
    "name": "ipython",
    "version": 3
   },
   "file_extension": ".py",
   "mimetype": "text/x-python",
   "name": "python",
   "nbconvert_exporter": "python",
   "pygments_lexer": "ipython3",
   "version": "3.9.13"
  }
 },
 "nbformat": 4,
 "nbformat_minor": 2
}
