{
 "cells": [
  {
   "cell_type": "code",
   "execution_count": null,
   "metadata": {},
   "outputs": [],
   "source": [
    "import pandas as pd\n",
    "from matplotlib import pyplot as plt\n",
    "import glob\n",
    "from importlib import reload\n",
    "import extract_features\n",
    "import os\n",
    "import numpy as np\n",
    "import json\n",
    "import seaborn as sns\n",
    "import results_functions\n",
    "from scipy import stats\n",
    "import pickle\n",
    "from scipy.stats import wilcoxon\n",
    "from statsmodels.stats.multitest import multipletests\n",
    "\n",
    "\n",
    "#json_path_project = 'S:\\\\AG\\\\AG-Bewegungsstoerungen-II\\\\LFP\\\\PROJECTS\\BATTERY\\\\'\n",
    "#json_path_onedrive = 'C:\\\\Users\\\\mathiopv\\\\OneDrive - Charité - Universitätsmedizin Berlin\\\\BATTERY_LIFE\\\\'"
   ]
  },
  {
   "cell_type": "markdown",
   "metadata": {},
   "source": [
    "### Make descriptive boxplots for all"
   ]
  },
  {
   "cell_type": "code",
   "execution_count": null,
   "metadata": {},
   "outputs": [],
   "source": [
    "directory = os.path.join(json_path_onedrive,\n",
    "    'results', 'Avg_Features', 'Avg_Features_Tbls' )\n",
    "\n",
    "dir_saving = os.path.join(json_path_onedrive,\n",
    "    'results', 'Avg_Features', 'test_results' )\n",
    "reload(results_functions)\n",
    "%matplotlib qt\n",
    "saving = 1\n",
    "df_fu0m, df_fu3m, df_fu12m, all_dfs = results_functions.get_descriptives(directory, dir_saving, saving)\n",
    "\n",
    "'''\n",
    "with open(os.path.join(directory,\n",
    "    'Means_FU0M.pkl'), \"rb\") as file:\n",
    "    val_dat = pickle.load(file)\n",
    "'''"
   ]
  },
  {
   "cell_type": "code",
   "execution_count": null,
   "metadata": {},
   "outputs": [],
   "source": [
    "print(np.round(np.mean(df_fu3m['AccTimeSinceImplant_Days']), decimals = 2))\n",
    "print(np.round(np.std(df_fu3m['AccTimeSinceImplant_Days']), decimals = 2))\n"
   ]
  },
  {
   "cell_type": "code",
   "execution_count": null,
   "metadata": {},
   "outputs": [],
   "source": [
    "file_name_path = os.path.join(json_path_onedrive,\n",
    "    'results', 'Avg_Features', 'test_results', 'STDs_FU12M.pkl')\n",
    "\n",
    "file = open(file_name_path,'rb')\n",
    "object_file = pickle.load(file)\n",
    "\n",
    "keys_to_divide = ['Telemetry_AllSec', 'TelemDurSumSecProgramming', 'SensDurSumSec']\n",
    "\n",
    "for key in keys_to_divide:\n",
    "    if key in object_file:\n",
    "        object_file[key] /= 60\n",
    "        \n",
    "rounded_dict = {key: round(value, 2) for key, value in object_file.items()}\n",
    "\n",
    "        \n",
    "rounded_dict"
   ]
  },
  {
   "cell_type": "code",
   "execution_count": null,
   "metadata": {},
   "outputs": [],
   "source": [
    "np.round(2661.33/60, decimals = 2)"
   ]
  },
  {
   "cell_type": "code",
   "execution_count": null,
   "metadata": {},
   "outputs": [],
   "source": [
    "#Make Battery boxplot\n",
    "all_dfs.head()\n",
    "fig, axs = plt.subplots(1, 1, figsize=(5,5))\n",
    "sns.boxplot(data=all_dfs, x=\"TimePoint\", y='FirstBatVal',fliersize=0, \n",
    "            boxprops=dict(facecolor='pink', edgecolor='darkred', linewidth = 3),\n",
    "            whiskerprops=dict(color='darkred', linewidth = 4), width = 0.5, dodge = 0.2)\n",
    "\n",
    "sns.stripplot(data=all_dfs, x='TimePoint', y='FirstBatVal', marker='o',\n",
    "                jitter = True, size = 12, alpha = 0.4, color = 'firebrick')\n",
    "axs.set_ylabel('IPG Battery [%]')\n",
    "#plt.savefig(os.path.join(dir_saving, 'BatteryPercentageTP'), dpi = 200)\n",
    "#plt.savefig(os.path.join(dir_saving, 'BatteryPercentageTP.pdf'))"
   ]
  },
  {
   "cell_type": "code",
   "execution_count": null,
   "metadata": {},
   "outputs": [],
   "source": [
    "bat_f0 = [99]*37 #all_dfs.loc[all_dfs['TimePoint'] == 'FU0M', 'FirstBatVal']\n",
    "bat_f3 = all_dfs.loc[all_dfs['TimePoint'] == 'FU3M', 'FirstBatVal']\n",
    "bat_f12 = all_dfs.loc[all_dfs['TimePoint'] == 'FU12M', 'FirstBatVal']\n",
    "\n",
    "statistic, p_value = wilcoxon(bat_f3, bat_f12, nan_policy='omit')\n",
    "print(statistic, p_value)"
   ]
  },
  {
   "cell_type": "code",
   "execution_count": null,
   "metadata": {},
   "outputs": [],
   "source": [
    "p_value < 0.001"
   ]
  },
  {
   "cell_type": "markdown",
   "metadata": {},
   "source": [
    "#### Pairwise Comparisons"
   ]
  },
  {
   "cell_type": "code",
   "execution_count": null,
   "metadata": {},
   "outputs": [],
   "source": [
    "all_fus_df = pd.read_excel(os.path.join(\n",
    "    json_path_onedrive, 'results', 'Avg_Features', 'test_results','All_FollowUp_dfs.xlsx'\n",
    ")) \n",
    "\n",
    "all_fus_df.head()"
   ]
  },
  {
   "cell_type": "code",
   "execution_count": null,
   "metadata": {},
   "outputs": [],
   "source": [
    "# Create a dictionary to store the results for each column\n",
    "all_columns = ['Telemetry_AllMin', 'TelemDurSumMinProgram','SensDurSumMin']\n",
    "wilcoxon_results = {}\n",
    "\n",
    "# List of time points to compare\n",
    "time_points = ['FU0M', 'FU3M', 'FU12M']\n",
    "\n",
    "# Perform pairwise Wilcoxon signed-rank tests and store the results for each column\n",
    "for column in all_columns:\n",
    "    comparisons_results = {}\n",
    "    for i in range(len(time_points)-1):\n",
    "        for j in range(i+1, len(time_points)):\n",
    "            tp1, tp2 = time_points[i], time_points[j]\n",
    "            x1 = all_fus_df.loc[all_fus_df['TimePoint'] == tp1,column]#all_fus_df.loc[all_fus_df['TimePoint'] == tp1, column]\n",
    "            x2 = all_fus_df.loc[all_fus_df['TimePoint'] ==  tp2, column]#all_fus_df.loc[all_fus_df['TimePoint'] == tp2, column]\n",
    "\n",
    "            statistic, p_value = wilcoxon(x1, x2, nan_policy='omit')\n",
    "\n",
    "            comparison_name = f\"{column}_{tp1}-{tp2}\"\n",
    "\n",
    "\n",
    "            comparisons_results[comparison_name] = {'Statistic': statistic, 'Original_p-values': p_value}\n",
    "    \n",
    "    wilcoxon_results[column] = comparisons_results\n",
    "\n",
    "# Convert the dictionary to a DataFrame\n",
    "results_df = pd.DataFrame({(column, key): value for column, values in wilcoxon_results.items() for key, value in values.items()}).T\n",
    "\n",
    "\n",
    "## Adjust for multiple comparisons\n",
    "reject, corrected_p_values, _, _ = multipletests(results_df['Original_p-values'],\n",
    "                                                 alpha = 0.05, \n",
    "                                                 method='bonferroni')\n",
    "results_df['Corrected_p-values'] = corrected_p_values\n",
    "\n",
    "significance_conds = [\n",
    "    (results_df['Corrected_p-values'] <= 0.001),\n",
    "    (results_df['Corrected_p-values'] <= 0.01),\n",
    "    (results_df['Corrected_p-values'] < 0.05),\n",
    "    (results_df['Corrected_p-values'] >= 0.05)\n",
    "]\n",
    "\n",
    "values = ['***', '**', '*', 'n.s.']\n",
    "\n",
    "results_df['Significance_multcomp'] = np.select(significance_conds, values, default = 'Other')\n",
    "results_df"
   ]
  },
  {
   "cell_type": "code",
   "execution_count": null,
   "metadata": {},
   "outputs": [],
   "source": [
    "results_df.to_excel(os.path.join(\n",
    "    json_path_onedrive, 'results', 'Avg_Features', 'test_results','PairwiseComps.xlsx'\n",
    "))"
   ]
  },
  {
   "cell_type": "markdown",
   "metadata": {},
   "source": [
    "### Make correlations with TEED"
   ]
  },
  {
   "cell_type": "code",
   "execution_count": null,
   "metadata": {},
   "outputs": [],
   "source": [
    "'''directory_Feat = os.path.join(json_path_onedrive,\n",
    "    'results', 'Avg_Features', 'Avg_Features_Tbls')\n",
    "\n",
    "directory_TEED = os.path.join(json_path_onedrive,\n",
    "    'results', 'Stim_pars', 'TEED')\n",
    "\n",
    "directory_corrs = os.path.join(json_path_onedrive,\n",
    "    'results', 'Correlations')'''\n",
    "\n",
    "\n",
    "directory_Feat = '/Users/barbaramathiopoulou/Documents/PhD_worken/BatteryLife/Avg_Features_Tbls'\n",
    "directory_TEED = '/Users/barbaramathiopoulou/Documents/PhD_worken/BatteryLife/TEED'\n",
    "directory_corrs = '/Users/barbaramathiopoulou/Documents/PhD_worken/BatteryLife/Correlations'\n",
    "saving = 1"
   ]
  },
  {
   "cell_type": "code",
   "execution_count": null,
   "metadata": {},
   "outputs": [],
   "source": [
    "reload(results_functions)\n",
    "%matplotlib qt\n",
    "corr_df  = results_functions.get_battery_corr_df(directory_Feat, \n",
    "                                                directory_TEED, \n",
    "                                                directory_corrs, \n",
    "                                                saving)\n",
    "\n"
   ]
  },
  {
   "cell_type": "markdown",
   "metadata": {},
   "source": [
    "## Multivariate Analysis"
   ]
  },
  {
   "cell_type": "code",
   "execution_count": null,
   "metadata": {},
   "outputs": [],
   "source": [
    "trial = pd.read_csv(os.path.join(json_path_onedrive,'results',\n",
    "                                 'Avg_Features', 'Avg_Features_Tbls', 'Sub021_AvgFeatures.csv'))\n",
    "trial"
   ]
  },
  {
   "cell_type": "code",
   "execution_count": null,
   "metadata": {},
   "outputs": [],
   "source": [
    "506297.0/3600"
   ]
  },
  {
   "cell_type": "code",
   "execution_count": null,
   "metadata": {},
   "outputs": [],
   "source": [
    "#Identify and remove Outlierts with the IQR Method\n",
    "corr_df = pd.read_csv(os.path.join(json_path_onedrive, 'results','Correlations',\n",
    "                                   'Corr_df.csv'), index_col=None)\n",
    "corr_df.to_excel(os.path.join(json_path_onedrive, 'results','Correlations',\n",
    "                                   'Corr_df.xlsx'), index=None)"
   ]
  },
  {
   "cell_type": "code",
   "execution_count": null,
   "metadata": {},
   "outputs": [],
   "source": [
    "corr_df.columns"
   ]
  },
  {
   "cell_type": "code",
   "execution_count": null,
   "metadata": {},
   "outputs": [],
   "source": [
    "np.round(np.std(corr_df['Chronic_12mfu_Days']), decimals = 2)"
   ]
  },
  {
   "cell_type": "markdown",
   "metadata": {},
   "source": [
    "IQR Method (Interquartile Range):\n",
    "\n",
    "It uses the range between the first quartile (Q1) and the third quartile (Q3) to identify outliers.\n",
    "\n",
    "Data points outside the range [Q1 - 1.5 * IQR, Q3 + 1.5 * IQR] are considered outliers."
   ]
  },
  {
   "cell_type": "code",
   "execution_count": null,
   "metadata": {},
   "outputs": [],
   "source": [
    "values_of_int = ['Telemetry_AllSec_div', 'SensDurSumSec_div', 'Chronic_12mfu_Days', 'TEED']\n",
    "\n",
    "for val in values_of_int:\n",
    "    data = corr_df[val]\n",
    "    \n",
    "    q1 = np.percentile(data, 25)\n",
    "    q3 = np.percentile(data, 75)\n",
    "    iqr = q3 - q1\n",
    "    outliers = (data < q1 - 1.5 * iqr) | (data > q3 + 1.5 * iqr)\n",
    "    outlier_subids = corr_df.loc[outliers, 'SubID'].tolist()\n",
    "    \n",
    "    print(f'Outliers for {val} is {tuple(outlier_subids)}')\n",
    "    "
   ]
  },
  {
   "cell_type": "code",
   "execution_count": null,
   "metadata": {},
   "outputs": [],
   "source": [
    "'''directory_corrs = os.path.join(json_path_onedrive,\n",
    "    'results', 'Correlations')'''\n",
    "\n",
    "reload(results_functions)\n",
    "saving = 1\n",
    "filtered_corr_df = corr_df[~corr_df['SubID'].isin(['Sub015', 'Sub029', 'Sub030', 'Sub056'])]\n",
    "correlation_stats = results_functions.corrs_scatters(filtered_corr_df, saving, directory_corrs)\n",
    "#correlation_stats"
   ]
  },
  {
   "cell_type": "code",
   "execution_count": null,
   "metadata": {},
   "outputs": [],
   "source": [
    "correlation_stats"
   ]
  },
  {
   "cell_type": "code",
   "execution_count": null,
   "metadata": {},
   "outputs": [],
   "source": [
    "#1. Correct the spearman correlations for multiple comparisons\n",
    "\n",
    "corrs_pvalues = [item['p-value'] for item in list(correlation_stats.values())]\n",
    "\n",
    "reject, corrected_p_values, _, _ = multipletests(corrs_pvalues,\n",
    "                                                 alpha = 0.05, \n",
    "                                                 method='bonferroni')\n",
    "\n",
    "corrected_p_values"
   ]
  },
  {
   "cell_type": "markdown",
   "metadata": {},
   "source": [
    "## Multivariate Analysis"
   ]
  },
  {
   "cell_type": "code",
   "execution_count": null,
   "metadata": {},
   "outputs": [],
   "source": [
    "#Multiple Linear Regression\n",
    "import statsmodels.api as sm\n",
    "\n",
    "filtered_corr_df[['Telemetry_AllSec_div', 'SensDurSumSec_div', 'Chronic_12mfu_Days', 'TEED']] = filtered_corr_df[['Telemetry_AllSec_div', 'SensDurSumSec_div', 'Chronic_12mfu_Days', 'TEED']].astype(float)\n",
    "X = filtered_corr_df[['Telemetry_AllSec_div', 'SensDurSumSec_div', 'Chronic_12mfu_Days', 'TEED']]\n",
    "X = sm.add_constant(X)  # add a constant term for the intercept\n",
    "y = filtered_corr_df['Battery_12mfu']\n",
    "\n",
    "model = sm.OLS(y, X).fit()\n",
    "print(model.summary())"
   ]
  },
  {
   "cell_type": "code",
   "execution_count": null,
   "metadata": {},
   "outputs": [],
   "source": [
    "np.around(-0.000595, decimals = 3)"
   ]
  },
  {
   "cell_type": "code",
   "execution_count": null,
   "metadata": {},
   "outputs": [],
   "source": [
    "#coefficients/Parameter estimates\n",
    "model.params\n",
    "#const = intercept\n",
    "#coefficient for TEED\n"
   ]
  },
  {
   "cell_type": "code",
   "execution_count": null,
   "metadata": {},
   "outputs": [],
   "source": [
    "%matplotlib qt\n",
    "coefficients = model.params\n",
    "\n",
    "xlabels = ['Total Telemetry Duration [min]',\n",
    "           'Total Active Sensing Duration [min]',\n",
    "           'Total Chronic Sensing Duration [days]',\n",
    "           'TEED [Joules/sec]']\n",
    "\n",
    "# Scatterplots with regression lines\n",
    "fig, axes = plt.subplots(2, 2, figsize=(8, 8))\n",
    "\n",
    "for i, var in enumerate(X.columns[1:]):  # Exclude the constant term\n",
    "    row, col = divmod(i, 2)\n",
    "    ax = axes[row, col]\n",
    "\n",
    "    # Scatterplot\n",
    "    ax.scatter(X[var], y, alpha=0.5, s = 100)\n",
    "\n",
    "    # Regression line\n",
    "    m, b = np.polyfit(X[var], y, 1)\n",
    "    ax.plot(X[var], m*X[var]+b, linewidth = 2)\n",
    "    \n",
    "    ax.set_xlabel(xlabels[i])\n",
    "    ax.set_ylabel('IPG Battery [%]')\n",
    "    #ax.legend()\n",
    "\n",
    "plt.tight_layout()\n",
    "plt.show()"
   ]
  },
  {
   "cell_type": "code",
   "execution_count": null,
   "metadata": {},
   "outputs": [],
   "source": [
    "this_dir = '/Users/barbaramathiopoulou/Documents/PhD_worken/BatteryLife/MultivariateAnal'\n",
    "plt.savefig(os.path.join(this_dir,'MultiVarScatters'), dpi = 200)\n",
    "plt.savefig(os.path.join(this_dir,'MultiVarScatters.pdf'))"
   ]
  },
  {
   "cell_type": "code",
   "execution_count": null,
   "metadata": {},
   "outputs": [],
   "source": [
    "plt.savefig(os.path.join(json_path_onedrive, 'results','MultivariateAnal', 'MultiVarScatters'), dpi = 200)\n",
    "plt.savefig(os.path.join(json_path_onedrive, 'results','MultivariateAnal', 'MultiVarScatters.pdf'))"
   ]
  },
  {
   "cell_type": "code",
   "execution_count": null,
   "metadata": {},
   "outputs": [],
   "source": [
    "x = filtered_corr_df['Telemetry_AllSec_div']\n",
    "y = filtered_corr_df['TEED']\n",
    "\n",
    "plt.scatter(x,y)\n",
    "stats = stats.spearmanr(x,y, nan_policy = 'omit')\n",
    "stats"
   ]
  },
  {
   "cell_type": "markdown",
   "metadata": {},
   "source": [
    "#### Test assumptions for linear regression"
   ]
  },
  {
   "cell_type": "code",
   "execution_count": null,
   "metadata": {},
   "outputs": [],
   "source": [
    "#Test Assumptions:\n",
    "import seaborn as sns\n",
    "\n",
    "#1. Linearity and \n",
    "residuals = model2.resid\n",
    "fitted_values = model2.fittedvalues\n",
    "\n",
    "fig, axs = plt.subplots(1,2)\n",
    "axs[0].scatter(fitted_values, residuals)\n",
    "axs[0].set_xlabel('Fitted Values')\n",
    "axs[0].set_ylabel('Residuals')\n",
    "axs[0].set_title('Residuals vs. Fitted Values Plot')\n",
    "\n",
    "#Interpretation: Check for a random scatter of points with no discernible pattern. \n",
    "# A pattern may indicate non-linearity or heteroscedasticity.\n",
    "\n",
    "#2. Homoscedasticity\n",
    "axs[1].scatter(fitted_values, abs(np.sqrt(np.abs(residuals))))\n",
    "axs[1].set_xlabel('Fitted Values')\n",
    "axs[1].set_ylabel('Square Root of Standardized Residuals')\n",
    "axs[1].set_title('Scale-Location Plot')\n",
    "plt.show()\n",
    "#Interpretation: Check for a horizontal line with no clear pattern. \n",
    "# A funnel-shaped pattern may indicate heteroscedasticity."
   ]
  },
  {
   "cell_type": "code",
   "execution_count": null,
   "metadata": {},
   "outputs": [],
   "source": [
    "#3. Normality of Residuals\n",
    "sm.qqplot(residuals, line='s')\n",
    "#Interpretation: Points close to the diagonal \n",
    "# line suggest that residuals are approximately normally distributed.\n",
    "\n",
    "from scipy.stats import shapiro\n",
    "\n",
    "stat, p_value = shapiro(residuals)\n",
    "\n",
    "print(f'Shapiro-Wilk Test Statistic: {stat:.4f}, p-value: {p_value:.4f}')\n",
    "#small p-value suggests that the residuals are not normally distributed."
   ]
  },
  {
   "cell_type": "markdown",
   "metadata": {},
   "source": [
    "#### Telemetry x TEED x UPDRS"
   ]
  },
  {
   "cell_type": "code",
   "execution_count": null,
   "metadata": {},
   "outputs": [],
   "source": [
    "'''demos = pd.read_excel(os.path.join(\n",
    "    json_path_onedrive, 'docs', 'Demos.xlsx'\n",
    "), sheet_name= 'Demos_MS', index_col=None)\n",
    "\n",
    "corr_df = pd.read_excel(os.path.join(\n",
    "    json_path_onedrive, 'results', 'Correlations', 'Corr_df.xlsx'\n",
    "), index_col=None)'''\n",
    "\n",
    "demos = pd.read_excel('/Users/barbaramathiopoulou/Documents/PhD_worken/BatteryLife/Demos.xlsx',sheet_name= 'Demos_MS', index_col=None)\n",
    "\n",
    "demos.rename(columns={'Percept_ID': 'SubID'}, inplace=True)\n",
    "filtered_demos = demos[demos['Included'] == 1]\n",
    "\n",
    "corr_df['SubID'] = corr_df['SubID'].astype(str).str.lower()\n",
    "merged_df = pd.merge(demos, corr_df, on='SubID', how='inner')\n",
    "merged_df"
   ]
  },
  {
   "cell_type": "code",
   "execution_count": null,
   "metadata": {},
   "outputs": [],
   "source": [
    "merged_df.to_excel(os.path.join(\n",
    "    this_dir,'Supplementary_Table.xlsx'\n",
    "), index = False)"
   ]
  },
  {
   "cell_type": "code",
   "execution_count": null,
   "metadata": {},
   "outputs": [],
   "source": [
    "filtered_corr_df = merged_df[~merged_df['SubID'].isin(['Sub015', 'Sub029', 'Sub030', 'Sub056'])]\n",
    "\n",
    "#plt.scatter(filtered_corr_df['Telemetry_AllSec_div'], filtered_corr_df['Relative_StimEffect'])\n",
    "filtered_corr_df.columns"
   ]
  },
  {
   "cell_type": "code",
   "execution_count": null,
   "metadata": {},
   "outputs": [],
   "source": [
    "from scipy import stats\n",
    "stats = stats.spearmanr(filtered_corr_df['TEED'], filtered_corr_df['Telemetry_AllSec_div'], nan_policy = 'omit')\n",
    "stats"
   ]
  },
  {
   "cell_type": "code",
   "execution_count": null,
   "metadata": {},
   "outputs": [],
   "source": [
    "#Multiple Linear Regression\n",
    "import statsmodels.api as sm\n",
    "\n",
    "X = filtered_corr_df[['TelemDurSumSecProgramming_div', 'Electrode']]\n",
    "X = pd.get_dummies(X, columns=['Electrode'], drop_first=True)\n",
    "X = X.apply(pd.to_numeric, errors='coerce')\n",
    "# Creating interaction terms\n",
    "#X['Telemetry_AllSec_X_TEED'] = X['TelemDurSumSecProgramming_div'] * X['TEED']\n",
    "#X['Telemetry_AllSec_div_Electrode'] = X['Telemetry_AllSec_div'] * X['Electrode_SenSight']\n",
    "#X['TEED_Electrode'] = X['TEED'] * X['Electrode_SenSight']\n",
    "\n",
    "X = sm.add_constant(X)  # add a constant term for the intercept\n",
    "\n",
    "#y = filtered_corr_df['Relative_StimEffect']\n",
    "y = filtered_corr_df['TEED']\n",
    "\n",
    "\n",
    "model = sm.OLS(y, X).fit()\n",
    "print(model.summary())"
   ]
  },
  {
   "cell_type": "code",
   "execution_count": null,
   "metadata": {},
   "outputs": [],
   "source": [
    "X['TEED'] = y"
   ]
  },
  {
   "cell_type": "code",
   "execution_count": null,
   "metadata": {},
   "outputs": [],
   "source": [
    "%matplotlib qt\n",
    "\n",
    "fig, axes = plt.subplots(nrows=1, ncols=2, figsize=(10, 3.5))\n",
    "\n",
    "ylabels = ['Telemetry Duration Programming (min)', 'TEED (Joules/sec)']\n",
    "# Iterate over each dependent variable and create a box plot in the corresponding subplot\n",
    "for i, dep_var in enumerate(['TelemDurSumSecProgramming_div', 'TEED']):\n",
    "    sns.boxplot(x='Electrode_SenSight', y=dep_var, data=X, width=0.5, palette = {0:'lightcoral',1:'lightseagreen'}, \n",
    "                boxprops=dict(alpha=1, edgecolor='black'), ax=axes[i])\n",
    "    \n",
    "    sns.stripplot(x='Electrode_SenSight', y=dep_var, hue = 'Electrode_SenSight', data=X, s=10, marker='o',\n",
    "                palette = {0:'brown',1:'darkslategrey'}, edgecolor=None, ax=axes[i])\n",
    "    \n",
    "    axes[i].set_xlabel('')\n",
    "    axes[i].set_ylabel(ylabels[i])\n",
    "    axes[i].get_legend().set_visible(False)\n",
    "    axes[i].set_xticklabels(['3389', 'Sensight'])\n",
    "    \n",
    "'''sns.boxplot(x='Electrode_SenSight', y='Battery_12mfu', data=X, width=0.5, palette = {0:'lightcoral',1:'lightseagreen'}, \n",
    "                boxprops=dict(alpha=1, edgecolor='black'), ax=axes[1])\n",
    "    \n",
    "sns.stripplot(x='Electrode_SenSight', y='Battery_12mfu',  data=X, s=10, marker='o',\n",
    "                palette = {0:'brown',1:'darkslategrey'}, edgecolor=None, ax=axes[1])\n",
    "axes[2].set_xlabel('')\n",
    "axes[2].set_ylabel('UPDRS-III M1S1 (% M0S0)')\n",
    "axes[2].set_xticklabels(['3389', 'Sensight'])'''\n",
    "# Adjust layout to prevent overlap\n",
    "plt.tight_layout()\n",
    "plt.show()"
   ]
  },
  {
   "cell_type": "code",
   "execution_count": null,
   "metadata": {},
   "outputs": [],
   "source": [
    "plt.savefig(os.path.join(json_path_onedrive, 'results','MultivariateAnal', 'Boxplots'), dpi = 200)\n",
    "plt.savefig(os.path.join(json_path_onedrive, 'results','MultivariateAnal', 'Boxplots.pdf'))"
   ]
  },
  {
   "cell_type": "code",
   "execution_count": null,
   "metadata": {},
   "outputs": [],
   "source": [
    "plt.savefig(os.path.join(this_dir, 'Boxplots'), dpi = 200)\n",
    "plt.savefig(os.path.join(this_dir, 'Boxplots.pdf'))"
   ]
  },
  {
   "cell_type": "code",
   "execution_count": null,
   "metadata": {},
   "outputs": [],
   "source": [
    "# 3D Scatter plot with color-coded categories\n",
    "category_colors = {0: 'lightcoral', 1: 'lightseagreen'}\n",
    "\n",
    "fig = plt.figure(figsize=(10, 8))\n",
    "ax = fig.add_subplot(111, projection='3d')\n",
    "\n",
    "# Scatter plot with color-coded categories\n",
    "scatter = ax.scatter(X['TelemDurSumSecProgramming_div'], X['TEED'], X['Battery_12mfu'], \n",
    "           c=X['Electrode_SenSight'].map(category_colors), cmap='viridis', s=100)\n",
    "\n",
    "ax.set_xlabel('Telemetry Duration (min)')\n",
    "ax.set_ylabel('TEED (Joules/sec)')\n",
    "ax.set_zlabel('Battery')\n",
    "\n",
    "# Create a legend\n",
    "legend_labels = ['3389', 'SenSight']\n",
    "ax.legend(handles=scatter.legend_elements()[0], labels=legend_labels, title='Electrode_SenSight', loc='upper right')\n",
    "\n",
    "plt.show()"
   ]
  },
  {
   "cell_type": "code",
   "execution_count": null,
   "metadata": {},
   "outputs": [],
   "source": [
    "plt.savefig(os.path.join(json_path_onedrive, 'results','MultivariateAnal', '3DScatterPlot'), dpi = 200)"
   ]
  },
  {
   "cell_type": "code",
   "execution_count": null,
   "metadata": {},
   "outputs": [],
   "source": [
    "x_corr = X['Telemetry_AllSec_div']\n",
    "y_corr = X['Relative_TotalEffect']\n",
    "\n",
    "plt.scatter(x_corr, y_corr)\n",
    "# Regression line\n",
    "m, b = np.polyfit(x_corr, y_corr, 1)\n",
    "plt.plot(x_corr, m*x_corr+b, linewidth = 2)\n",
    "\n",
    "res =  stats.spearmanr(x_corr, y_corr, nan_policy = 'omit')\n",
    "plt.title(np.around(res, decimals = 2))\n",
    "\n",
    "plt.xlabel('Telemetry Duration (min)')\n",
    "plt.ylabel('UPDRS-III M1S1 (% M0S0)')"
   ]
  },
  {
   "cell_type": "code",
   "execution_count": null,
   "metadata": {},
   "outputs": [],
   "source": [
    "plt.savefig(os.path.join(json_path_onedrive, 'results','MultivariateAnal', 'ScatterPlot_TelemetryxUPDRS'), dpi = 200)"
   ]
  },
  {
   "cell_type": "code",
   "execution_count": null,
   "metadata": {},
   "outputs": [],
   "source": []
  }
 ],
 "metadata": {
  "kernelspec": {
   "display_name": "Python 3.7.4 ('base')",
   "language": "python",
   "name": "python3"
  },
  "language_info": {
   "codemirror_mode": {
    "name": "ipython",
    "version": 3
   },
   "file_extension": ".py",
   "mimetype": "text/x-python",
   "name": "python",
   "nbconvert_exporter": "python",
   "pygments_lexer": "ipython3",
   "version": "3.7.4"
  },
  "vscode": {
   "interpreter": {
    "hash": "40d3a090f54c6569ab1632332b64b2c03c39dcf918b08424e98f38b5ae0af88f"
   }
  }
 },
 "nbformat": 4,
 "nbformat_minor": 2
}
