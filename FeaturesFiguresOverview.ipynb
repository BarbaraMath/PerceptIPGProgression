{
 "cells": [
  {
   "cell_type": "code",
   "execution_count": null,
   "metadata": {},
   "outputs": [],
   "source": [
    "import pandas as pd\n",
    "from matplotlib import pyplot as plt\n",
    "from importlib import reload\n",
    "import os\n",
    "import numpy as np\n",
    "import json\n",
    "import seaborn as sns"
   ]
  },
  {
   "cell_type": "code",
   "execution_count": null,
   "metadata": {},
   "outputs": [],
   "source": [
    "avg_feat_path = 'C:\\\\Users\\\\mathiopv\\\\OneDrive - Charité - Universitätsmedizin Berlin\\\\BATTERY_LIFE\\\\results\\\\Avg_Features'"
   ]
  },
  {
   "cell_type": "code",
   "execution_count": null,
   "metadata": {},
   "outputs": [],
   "source": [
    "# Initialize an empty list to store the DataFrames\n",
    "dfs = []\n",
    "\n",
    "# Iterate through the files in the directory\n",
    "for filename in os.listdir(avg_feat_path):\n",
    "    if filename.endswith(\".json\"):\n",
    "        # Construct the full file path\n",
    "        file_path = os.path.join(avg_feat_path, filename)\n",
    "        f = open(file_path)\n",
    "        data1 = json.load(f)\n",
    "        df = pd.read_json(data1, orient ='index')\n",
    "        df.reset_index(inplace=True)\n",
    "        df.rename(columns={'index': 'FollowUp'}, inplace=True)\n",
    "\n",
    "        df['SubID'] = [filename.split('_')[0]]*df.shape[0]\n",
    "        dfs.append(df)\n",
    "\n",
    "\n",
    "All_AvgFeatures = pd.concat(dfs, ignore_index=True)"
   ]
  },
  {
   "cell_type": "code",
   "execution_count": null,
   "metadata": {},
   "outputs": [],
   "source": [
    "#All_AvgFeatures.to_excel(os.path.join(avg_feat_path,'All_AvgFeatures.xlsx'), header = True, index = False)"
   ]
  },
  {
   "cell_type": "code",
   "execution_count": null,
   "metadata": {},
   "outputs": [],
   "source": [
    "# Filter out rows with FollowUp as 'Beelitz'\n",
    "beelitz_rows = All_AvgFeatures[All_AvgFeatures['FollowUp'] == 'Beelitz']\n",
    "\n",
    "# Group by 'SubID' and apply custom aggregation\n",
    "agg_funcs = {\n",
    "    'Telemetry Duration Sum': 'sum',\n",
    "    'Sensing Duration Sum': 'sum',\n",
    "    'Last Battery Value': 'first',  # Keep only the first value, which will be 'Beelitz'\n",
    "}\n",
    "\n",
    "result_df = beelitz_rows.groupby(['SubID', 'FollowUp']).agg(agg_funcs).reset_index()\n",
    "\n",
    "result_df"
   ]
  },
  {
   "cell_type": "code",
   "execution_count": null,
   "metadata": {},
   "outputs": [],
   "source": [
    "result_df.to_excel(os.path.join(avg_feat_path,'Results_df.xlsx'), header = True, index = True)"
   ]
  },
  {
   "cell_type": "code",
   "execution_count": null,
   "metadata": {},
   "outputs": [],
   "source": [
    "All_AvgFeatures_MrgFU0M = pd.read_excel(os.path.join(\n",
    "    avg_feat_path, 'All_AvgFeatures_MergedFU0M.xlsx'\n",
    "))\n",
    "All_AvgFeatures_MrgFU0M['Telemetry Duration SumHours'] = All_AvgFeatures_MrgFU0M['Telemetry Duration Sum'] / (60 * 60)\n",
    "All_AvgFeatures_MrgFU0M['TelemetryProgrammingOnlyHours'] = (All_AvgFeatures_MrgFU0M['Telemetry Duration Sum'] - All_AvgFeatures_MrgFU0M['Sensing Duration Sum']) / (60 * 60)\n",
    "\n",
    "All_AvgFeatures_MrgFU0M.head()"
   ]
  },
  {
   "cell_type": "code",
   "execution_count": null,
   "metadata": {},
   "outputs": [],
   "source": [
    "plt.figure(figsize=(6,4))\n",
    "sns.boxplot(x='FollowUp', y='TelemetryProgrammingOnlyHours', boxprops=dict(alpha=.8), data=All_AvgFeatures_MrgFU0M, width=0.3, color = 'darkred')\n",
    "sns.stripplot(data=All_AvgFeatures_MrgFU0M, x='FollowUp', y='TelemetryProgrammingOnlyHours', hue = 'SenSight',jitter = 0, size = 8, palette = 'pastel')\n",
    "\n",
    "sns.lineplot(\n",
    "    data=All_AvgFeatures_MrgFU0M, x='FollowUp', y='TelemetryProgrammingOnlyHours', units = 'SubID',\n",
    "    color=\".7\", alpha = 0.4, estimator=None, \n",
    "    linestyle=':'\n",
    ")\n"
   ]
  },
  {
   "cell_type": "code",
   "execution_count": null,
   "metadata": {},
   "outputs": [],
   "source": [
    "plt.figure(figsize=(6,4))\n",
    "sns.boxplot(x='FollowUp', y='Last Battery Value', boxprops=dict(alpha=.8), data=All_AvgFeatures_MrgFU0M, width=0.3, color = 'darkred')\n",
    "sns.stripplot(data=All_AvgFeatures_MrgFU0M, x='FollowUp', y='Last Battery Value', hue = 'SenSight',jitter = 1, size = 8, palette = 'pastel', alpha = 0.7)\n",
    "\n",
    "sns.lineplot(\n",
    "    data=All_AvgFeatures_MrgFU0M, x='FollowUp', y='Last Battery Value', units = 'SubID',\n",
    "    color=\".7\", alpha = 0.4, estimator=None, \n",
    "    linestyle=':'\n",
    ")"
   ]
  },
  {
   "cell_type": "code",
   "execution_count": null,
   "metadata": {},
   "outputs": [],
   "source": [
    "m3fu_sensing = All_AvgFeatures_MrgFU0M[All_AvgFeatures_MrgFU0M['FollowUp'] == 'FU3M']\n",
    "plt.figure(figsize=(6,4))\n",
    "sns.boxplot(x='SenSight', y='TelemetryProgrammingOnlyHours', boxprops=dict(alpha=.8), data=m3fu_sensing, width=0.3, color = 'midnightblue')\n",
    "sns.stripplot(data=m3fu_sensing, x='SenSight', y='TelemetryProgrammingOnlyHours',jitter = 1, size = 8, palette = 'pastel', alpha = 0.7)"
   ]
  },
  {
   "cell_type": "code",
   "execution_count": null,
   "metadata": {},
   "outputs": [],
   "source": [
    "m3fu_sensing[m3fu_sensing['SenSight'] == 0]"
   ]
  },
  {
   "cell_type": "code",
   "execution_count": null,
   "metadata": {},
   "outputs": [],
   "source": [
    "from scipy import stats\n",
    "stats.permutation_test((m3fu_sensing))"
   ]
  }
 ],
 "metadata": {
  "kernelspec": {
   "display_name": "base",
   "language": "python",
   "name": "python3"
  },
  "language_info": {
   "codemirror_mode": {
    "name": "ipython",
    "version": 3
   },
   "file_extension": ".py",
   "mimetype": "text/x-python",
   "name": "python",
   "nbconvert_exporter": "python",
   "pygments_lexer": "ipython3",
   "version": "3.9.13"
  },
  "orig_nbformat": 4
 },
 "nbformat": 4,
 "nbformat_minor": 2
}
