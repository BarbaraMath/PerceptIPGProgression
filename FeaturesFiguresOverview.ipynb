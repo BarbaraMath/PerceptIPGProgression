{
 "cells": [
  {
   "cell_type": "code",
   "execution_count": null,
   "metadata": {},
   "outputs": [],
   "source": [
    "import pandas as pd\n",
    "from matplotlib import pyplot as plt\n",
    "from importlib import reload\n",
    "import os\n",
    "import numpy as np\n",
    "import json"
   ]
  },
  {
   "cell_type": "code",
   "execution_count": null,
   "metadata": {},
   "outputs": [],
   "source": [
    "avg_feat_path = 'C:\\\\Users\\\\mathiopv\\\\OneDrive - Charité - Universitätsmedizin Berlin\\\\BATTERY_LIFE\\\\results\\\\Avg_Features'"
   ]
  },
  {
   "cell_type": "code",
   "execution_count": null,
   "metadata": {},
   "outputs": [],
   "source": [
    "file_path"
   ]
  },
  {
   "cell_type": "code",
   "execution_count": null,
   "metadata": {},
   "outputs": [],
   "source": [
    "[filename.split('_')[0]]*df.shape[0]"
   ]
  },
  {
   "cell_type": "code",
   "execution_count": null,
   "metadata": {},
   "outputs": [],
   "source": [
    "# Initialize an empty list to store the DataFrames\n",
    "dfs = []\n",
    "\n",
    "# Iterate through the files in the directory\n",
    "for filename in os.listdir(avg_feat_path):\n",
    "    if filename.endswith(\".json\"):\n",
    "        # Construct the full file path\n",
    "        file_path = os.path.join(avg_feat_path, filename)\n",
    "        f = open(file_path)\n",
    "        data1 = json.load(f)\n",
    "        df = pd.read_json(data1, orient ='index')\n",
    "        df.reset_index(inplace=True)\n",
    "        df.rename(columns={'index': 'FollowUp'}, inplace=True)\n",
    "\n",
    "        df['SubID'] = [filename.split('_')[0]]*df.shape[0]\n",
    "        dfs.append(df)\n",
    "\n",
    "\n",
    "All_AvgFeatures = pd.concat(dfs, ignore_index=True)"
   ]
  },
  {
   "cell_type": "code",
   "execution_count": null,
   "metadata": {},
   "outputs": [],
   "source": [
    "np.unique(All_AvgFeatures['SubID'])"
   ]
  },
  {
   "cell_type": "code",
   "execution_count": null,
   "metadata": {},
   "outputs": [],
   "source": [
    "# Filter out rows with FollowUp as 'Beelitz'\n",
    "beelitz_rows = All_AvgFeatures[All_AvgFeatures['FollowUp'] == 'Beelitz']\n",
    "\n",
    "# Group by 'SubID' and apply custom aggregation\n",
    "agg_funcs = {\n",
    "    'Telemetry Duration Sum': 'sum',\n",
    "    'Sensing Duration Sum': 'sum',\n",
    "    'Last Battery Value': 'first',  # Keep only the first value, which will be 'Beelitz'\n",
    "}\n",
    "\n",
    "result_df = beelitz_rows.groupby('SubID').agg(agg_funcs)\n",
    "\n",
    "# Rename 'Beelitz' to 'FU0M' for the 'FollowUp' column in the result DataFrame\n",
    "result_df.rename(index={'Beelitz': 'FU0M'}, inplace=True)\n",
    "\n",
    "result_df"
   ]
  }
 ],
 "metadata": {
  "kernelspec": {
   "display_name": "base",
   "language": "python",
   "name": "python3"
  },
  "language_info": {
   "codemirror_mode": {
    "name": "ipython",
    "version": 3
   },
   "file_extension": ".py",
   "mimetype": "text/x-python",
   "name": "python",
   "nbconvert_exporter": "python",
   "pygments_lexer": "ipython3",
   "version": "3.9.13"
  },
  "orig_nbformat": 4
 },
 "nbformat": 4,
 "nbformat_minor": 2
}
