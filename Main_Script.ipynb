{
 "cells": [
  {
   "cell_type": "code",
   "execution_count": null,
   "metadata": {},
   "outputs": [],
   "source": [
    "import pandas as pd\n",
    "import matplotlib as plt\n",
    "from importlib import reload\n",
    "import extract_features\n",
    "import os\n"
   ]
  },
  {
   "cell_type": "code",
   "execution_count": null,
   "metadata": {},
   "outputs": [],
   "source": [
    "json_path = 'C:\\\\Users\\\\mathiopv\\\\OneDrive - Charité - Universitätsmedizin Berlin\\\\BATTERY_LIFE\\\\data\\\\Sub005\\\\postop'\n",
    "\n",
    "all_json_files = glob.glob(os.path.join(json_path, '*.json'))\n",
    "filtered_files = [file for file in all_json_files if not os.path.basename(file).startswith('MetaTable') and not os.path.basename(file).startswith('Sub')]\n",
    "filtered_files"
   ]
  },
  {
   "cell_type": "code",
   "execution_count": null,
   "metadata": {},
   "outputs": [],
   "source": [
    "with open(os.path.join(json_path, 'Report_Json_Session_Report_20200605T115803.json')) as file:\n",
    "            # Load the JSON data\n",
    "            data = json.load(file)\n"
   ]
  },
  {
   "cell_type": "code",
   "execution_count": null,
   "metadata": {},
   "outputs": [],
   "source": [
    "reload(extract_features)\n",
    "SUBID = 'Sub005'\n",
    "WARDCARE = 0 \n",
    "extract_features.extract_MetaTable(json_path, SUBID, WARDCARE, filtered_files)\n"
   ]
  },
  {
   "cell_type": "code",
   "execution_count": null,
   "metadata": {},
   "outputs": [],
   "source": [
    "# Get a list of JSON files starting with 'MetaTable'\n",
    "MetaTable_json_files = [file for file in os.listdir(json_path) if file.startswith('MetaTable') and file.endswith('.json')]\n",
    "\n",
    "# Create an empty list to store the DataFrames\n",
    "dfs = []\n",
    "\n",
    "# Iterate over the JSON files\n",
    "for file in MetaTable_json_files:\n",
    "    file_path = os.path.join(json_path, file)\n",
    "    # Read the JSON file as a Series\n",
    "    data = pd.read_json(file_path, typ='series')\n",
    "    # Convert the Series to a DataFrame\n",
    "    df = pd.DataFrame(data).transpose()\n",
    "    # Append the DataFrame to the list\n",
    "    dfs.append(df)\n",
    "\n",
    "# Concatenate the DataFrames in the list\n",
    "combined_df = pd.concat(dfs, ignore_index=True)\n",
    "\n",
    "# Sort the combined DataFrame by the 'SessionDate' column\n",
    "combined_df.sort_values('AccumulatedTherapyOnTimeSinceImplant_Initial', inplace=True)\n",
    "\n",
    "# Print the combined and sorted DataFrame\n",
    "combined_df\n"
   ]
  },
  {
   "cell_type": "code",
   "execution_count": null,
   "metadata": {},
   "outputs": [],
   "source": [
    "import matplotlib.pyplot as plt\n",
    "\n",
    "# Get the last row of the DataFrame\n",
    "last_row = combined_df.iloc[-1]\n",
    "\n",
    "# Extract the values for the variables\n",
    "battery_percentage = last_row['BatteryPercentage']\n",
    "overall_sensing_duration_sum = combined_df['overallSensingDurSec'].sum()/60\n",
    "telemetry_duration_sum = combined_df['telemetry_durationSec'].sum()/60\n",
    "\n",
    "# Create a figure with three subplots\n",
    "fig, (ax1, ax2, ax3) = plt.subplots(1, 3, figsize=(8, 3))\n",
    "\n",
    "# Plot the bar plot for Battery Percentage\n",
    "ax1.bar('Battery Percentage', battery_percentage)\n",
    "\n",
    "# Plot the bar plot for Overall Sensing Duration\n",
    "ax2.bar('Overall Sensing Duration (Min)', overall_sensing_duration_sum)\n",
    "\n",
    "# Plot the bar plot for Telemetry Duration\n",
    "ax3.bar('Telemetry Duration (Min)', telemetry_duration_sum)\n",
    "fig.tight_layout()\n",
    "plt.show()\n"
   ]
  },
  {
   "cell_type": "code",
   "execution_count": null,
   "metadata": {},
   "outputs": [],
   "source": [
    "dataframe_SubId = combined_df['SubID'].unique()[0]\n",
    "dataframe_WardCare = combined_df['WardCare'].unique()[0]\n",
    "\n",
    "dataframe_name = f\"{dataframe_SubId}_AllMetaTable_WardCare{dataframe_WardCare}_{os.path.basename(json_path)}.json\"\n",
    "output_path = os.path.join(json_path, dataframe_name)\n",
    "combined_df.to_json(output_path, orient='records')"
   ]
  }
 ],
 "metadata": {
  "kernelspec": {
   "display_name": "base",
   "language": "python",
   "name": "python3"
  },
  "language_info": {
   "codemirror_mode": {
    "name": "ipython",
    "version": 3
   },
   "file_extension": ".py",
   "mimetype": "text/x-python",
   "name": "python",
   "nbconvert_exporter": "python",
   "pygments_lexer": "ipython3",
   "version": "3.9.13"
  },
  "orig_nbformat": 4
 },
 "nbformat": 4,
 "nbformat_minor": 2
}
