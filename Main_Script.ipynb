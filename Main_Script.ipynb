{
 "cells": [
  {
   "cell_type": "code",
   "execution_count": null,
   "metadata": {},
   "outputs": [],
   "source": [
    "import pandas as pd\n",
    "from matplotlib import pyplot as plt\n",
    "import glob\n",
    "from importlib import reload\n",
    "import extract_features\n",
    "import os\n",
    "from datetime import datetime \n",
    "import numpy as np\n",
    "import json\n",
    "\n",
    "json_path_project = 'S:\\\\AG\\\\AG-Bewegungsstoerungen-II\\\\LFP\\\\PROJECTS\\BATTERY\\\\'"
   ]
  },
  {
   "cell_type": "code",
   "execution_count": null,
   "metadata": {},
   "outputs": [],
   "source": [
    "json_path_Subject = 'Sub007\\\\Ward'\n",
    "\n",
    "all_json_files = glob.glob(os.path.join(json_path_project, json_path_Subject, '*.json'))\n",
    "filtered_files = [file for file in all_json_files if not os.path.basename(file).startswith('MetaTable') and not os.path.basename(file).startswith('Sub')]\n",
    "filtered_files"
   ]
  },
  {
   "cell_type": "code",
   "execution_count": null,
   "metadata": {},
   "outputs": [],
   "source": [
    "'''with open(os.path.join(json_path, 'Report_Json_Session_Report_20200605T115803.json')) as file:\n",
    "            # Load the JSON data\n",
    "            data = json.load(file)\n",
    "'''"
   ]
  },
  {
   "cell_type": "code",
   "execution_count": null,
   "metadata": {},
   "outputs": [],
   "source": [
    "datetime.strptime('2020-09-11T06:33:32Z', \"%Y-%m-%dT%H:%M:%SZ\")"
   ]
  },
  {
   "cell_type": "code",
   "execution_count": null,
   "metadata": {},
   "outputs": [],
   "source": [
    "reload(extract_features)\n",
    "SUBID = 'Sub007'\n",
    "json_path = os.path.join(json_path_project, json_path_Subject)\n",
    "extract_features.extract_MetaTable(json_path_Subject, json_path, SUBID, filtered_files)\n"
   ]
  },
  {
   "cell_type": "code",
   "execution_count": null,
   "metadata": {},
   "outputs": [],
   "source": [
    "filename"
   ]
  },
  {
   "cell_type": "code",
   "execution_count": null,
   "metadata": {},
   "outputs": [],
   "source": [
    "mySub = 'Sub005'\n",
    "All_MetaTables_ThisSub_path = os.path.join(json_path_project, mySub)\n",
    "\n",
    "# Initialize an empty list to store the DataFrames\n",
    "dfs = []\n",
    "\n",
    "# Iterate through the files in the directory\n",
    "for filename in os.listdir(All_MetaTables_ThisSub_path):\n",
    "    if filename.endswith(\".json\"):\n",
    "        # Construct the full file path\n",
    "        file_path = os.path.join(All_MetaTables_ThisSub_path, filename)\n",
    "        \n",
    "        # Read the JSON file and append the DataFrame to the list\n",
    "        df = pd.read_json(file_path)\n",
    "        dfs.append(df)\n",
    "\n",
    "# Concatenate all DataFrames into a single DataFrame\n",
    "All_MetaTables_ThisSub_Combined = pd.concat(dfs, ignore_index=True)\n",
    "conversion_factor = 24 * 60 * 60\n",
    "All_MetaTables_ThisSub_Combined['AccumulatedTherapyOnTimeSinceImplant_Initial_Days'] = All_MetaTables_ThisSub_Combined['AccumulatedTherapyOnTimeSinceImplant_Initial'] / conversion_factor\n",
    "All_MetaTables_ThisSub_Combined.sort_values('AccumulatedTherapyOnTimeSinceImplant_Initial', inplace=True)\n",
    "All_MetaTables_ThisSub_Combined.head()"
   ]
  },
  {
   "cell_type": "code",
   "execution_count": null,
   "metadata": {},
   "outputs": [],
   "source": [
    "# Get the last row of 'BatteryPercentage' for each unique 'Con_Reason' value\n",
    "last_battery_percentages = All_MetaTables_ThisSub_Combined.groupby('Con_Reason')['BatteryPercentage'].last()\n",
    "\n",
    "# Calculate the sum of 'overallSensingDurSec' for each unique 'Con_Reason' value\n",
    "sum_sensing_duration = All_MetaTables_ThisSub_Combined.groupby('Con_Reason')['overallSensingDurSec'].sum()/60\n",
    "sum_telemetry_duration = All_MetaTables_ThisSub_Combined.groupby('Con_Reason')['telemetry_durationSec'].sum()/60\n",
    "\n",
    "# Iterate through unique 'Con_Reason' values\n",
    "for con_reason in All_MetaTables_ThisSub_Combined['Con_Reason'].unique():\n",
    "    print(f\"Last Battery Percentage for {con_reason}: {last_battery_percentages[con_reason]}\")\n",
    "    print(f\"Sum of overallSensingDurSec for {con_reason}: {sum_sensing_duration[con_reason]}\")\n",
    "    print(f\"Sum of telemetry_durationSec for {con_reason}: {sum_telemetry_duration[con_reason]}\")\n",
    "    print()"
   ]
  },
  {
   "cell_type": "code",
   "execution_count": null,
   "metadata": {},
   "outputs": [],
   "source": [
    "%matplotlib qt\n",
    "plt.scatter(All_MetaTables_ThisSub_Combined['AccumulatedTherapyOnTimeSinceImplant_Initial_Days'], All_MetaTables_ThisSub_Combined['BatteryPercentage'])\n",
    "plt.show()"
   ]
  },
  {
   "cell_type": "code",
   "execution_count": null,
   "metadata": {},
   "outputs": [],
   "source": [
    "All_MetaTables_ThisSub_Combined.loc[\n",
    "    All_MetaTables_ThisSub_Combined['AccumulatedTherapyOnTimeSinceImplant_Initial_Days'] < 50, 'FollowUp'] = 'FU0M'\n",
    "\n",
    "All_MetaTables_ThisSub_Combined.loc[\n",
    "    (All_MetaTables_ThisSub_Combined['AccumulatedTherapyOnTimeSinceImplant_Initial_Days'] > 50) &\n",
    "    (All_MetaTables_ThisSub_Combined['AccumulatedTherapyOnTimeSinceImplant_Initial_Days'] < 300), 'FollowUp'] = 'FU3M'\n",
    "\n",
    "All_MetaTables_ThisSub_Combined.loc[\n",
    "    All_MetaTables_ThisSub_Combined['AccumulatedTherapyOnTimeSinceImplant_Initial_Days'] >300, 'FollowUp'] = 'FU12M'\n",
    "\n",
    "All_MetaTables_ThisSub_Combined.loc[\n",
    "    All_MetaTables_ThisSub_Combined['Con_Reason'] == 'Beelitz', 'FollowUp'] = 'Beelitz'\n",
    "\n",
    "All_MetaTables_ThisSub_Combined.loc[\n",
    "    All_MetaTables_ThisSub_Combined['Con_Reason'] == 'Beelitz', 'FollowUp'] = 'Beelitz'"
   ]
  },
  {
   "cell_type": "code",
   "execution_count": null,
   "metadata": {},
   "outputs": [],
   "source": [
    "All_MetaTables_ThisSub_Combined.head()"
   ]
  },
  {
   "cell_type": "code",
   "execution_count": null,
   "metadata": {},
   "outputs": [],
   "source": [
    "All_MetaTables_ThisSub_Combined_FileName = f'{mySub}_MetaTable_All.json'\n",
    "\n",
    "All_MetaTables_ThisSub_Combined.to_json(\n",
    "    os.path.join(\n",
    "        json_path_project, mySub, \n",
    "        All_MetaTables_ThisSub_Combined_FileName),\n",
    "    orient ='records'\n",
    ")"
   ]
  },
  {
   "cell_type": "code",
   "execution_count": null,
   "metadata": {},
   "outputs": [],
   "source": [
    "sums = {}\n",
    "# Get the unique time points in the order they appear\n",
    "time_points = All_MetaTables_ThisSub_Combined['FollowUp'].unique()\n",
    "\n",
    "# Sort the time points based on their first occurrence in the DataFrame\n",
    "time_points_sorted = sorted(time_points, key=lambda x: np.where(All_MetaTables_ThisSub_Combined['FollowUp'] == x)[0][0])\n",
    "# Get the corresponding y-values (last battery values)\n",
    "last_battery_values = All_MetaTables_ThisSub_Combined.groupby('FollowUp')['BatteryPercentage'].last()\n",
    "y_values = [last_battery_values[tp] if tp in last_battery_values.index else 0 for tp in time_points_sorted]\n",
    "\n",
    "\n",
    "for tp in time_points_sorted:\n",
    "    subset = All_MetaTables_ThisSub_Combined[All_MetaTables_ThisSub_Combined['FollowUp'] == tp]\n",
    "    telemetry_sum = subset['telemetry_durationSec'].sum()\n",
    "    sensing_sum = subset['overallSensingDurSec'].sum()\n",
    "    last_battery_value = last_battery_values[tp] if tp in last_battery_values.index else None\n",
    "    sums[tp] = {\n",
    "        'Telemetry Duration Sum': telemetry_sum,\n",
    "        'Sensing Duration Sum': sensing_sum,\n",
    "        'Last Battery Value': last_battery_value\n",
    "    }\n",
    "\n",
    "# Print the sums dictionary\n",
    "for tp, values in sums.items():\n",
    "    print(f\"FollowUp: {tp}, Sums: {values}\")\n"
   ]
  },
  {
   "cell_type": "code",
   "execution_count": null,
   "metadata": {},
   "outputs": [],
   "source": [
    "sums"
   ]
  },
  {
   "cell_type": "code",
   "execution_count": null,
   "metadata": {},
   "outputs": [],
   "source": [
    "AvgValues_ThisSub_Combined_FileName = f'{mySub}_TotalValues.json'\n",
    "\n",
    "with open(os.path.join(\n",
    "        json_path_project, mySub, \n",
    "        AvgValues_ThisSub_Combined_FileName), 'w') as json_file:\n",
    "            json.dump(sums, json_file)"
   ]
  },
  {
   "cell_type": "code",
   "execution_count": null,
   "metadata": {},
   "outputs": [],
   "source": [
    "# Assuming you have the 'sums' dictionary from the previous code\n",
    "\n",
    "# Extract the data for each subplot\n",
    "last_battery_values = [sums[tp]['Last Battery Value'] for tp in time_points_sorted]\n",
    "telemetry_sums = [sums[tp]['Telemetry Duration Sum'] for tp in time_points_sorted]\n",
    "sensing_sums = [sums[tp]['Sensing Duration Sum'] for tp in time_points_sorted]\n",
    "\n",
    "for i in range(len(telemetry_sums)):\n",
    "    telemetry_sums[i] /= 60\n",
    "\n",
    "for i in range(len(sensing_sums)):\n",
    "    sensing_sums[i] /= 60\n",
    "\n",
    "# Set up the subplots\n",
    "fig, (ax1, ax2) = plt.subplots(1, 2, figsize=(8, 4))\n",
    "\n",
    "# First subplot - 'Last Battery Value'\n",
    "ax1.bar(time_points_sorted, last_battery_values)\n",
    "ax1.set_ylabel('IPG Battery [%]')\n",
    "ax1.set_ylim(60,100)\n",
    "\n",
    "# Second subplot - Stacked bar plots\n",
    "ind = np.arange(len(time_points_sorted))\n",
    "width = 0.7\n",
    "ax2.bar(ind, telemetry_sums, width)\n",
    "ax2.bar(ind, sensing_sums, width, label='Sensing Duration Sum')\n",
    "ax2.set_ylabel('Total Duration [min]')\n",
    "ax2.set_xticks(ind)\n",
    "ax2.set_xticklabels(time_points_sorted)\n",
    "ax2.legend()\n",
    "\n",
    "fig_title = f\"{All_MetaTables_ThisSub_Combined['SubID'].unique()[0]}-Overview\"\n",
    "plt.suptitle(fig_title)\n",
    "# Adjust spacing between subplots\n",
    "plt.tight_layout()\n",
    "\n",
    "# Display the plot\n",
    "plt.show()\n"
   ]
  },
  {
   "cell_type": "code",
   "execution_count": null,
   "metadata": {},
   "outputs": [],
   "source": [
    "AvgValues_ThisSub_FigName = f'{mySub}_Overview'\n",
    "\n",
    "fig.savefig(os.path.join(\n",
    "        json_path_project, mySub, AvgValues_ThisSub_FigName),\n",
    "        dpi = 150)"
   ]
  }
 ],
 "metadata": {
  "kernelspec": {
   "display_name": "base",
   "language": "python",
   "name": "python3"
  },
  "language_info": {
   "codemirror_mode": {
    "name": "ipython",
    "version": 3
   },
   "file_extension": ".py",
   "mimetype": "text/x-python",
   "name": "python",
   "nbconvert_exporter": "python",
   "pygments_lexer": "ipython3",
   "version": "3.9.13"
  },
  "orig_nbformat": 4
 },
 "nbformat": 4,
 "nbformat_minor": 2
}
