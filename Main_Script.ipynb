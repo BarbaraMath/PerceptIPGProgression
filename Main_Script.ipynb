{
 "cells": [
  {
   "cell_type": "code",
   "execution_count": null,
   "metadata": {},
   "outputs": [],
   "source": [
    "import pandas as pd\n",
    "from matplotlib import pyplot as plt\n",
    "import glob\n",
    "from importlib import reload\n",
    "import extract_features\n",
    "import os\n",
    "import numpy as np\n",
    "import json\n",
    "\n",
    "json_path_project = 'S:\\\\AG\\\\AG-Bewegungsstoerungen-II\\\\LFP\\\\PROJECTS\\BATTERY\\\\'"
   ]
  },
  {
   "attachments": {},
   "cell_type": "markdown",
   "metadata": {},
   "source": [
    "### 1. Importing all Json files from Directory, and extracting the features"
   ]
  },
  {
   "cell_type": "code",
   "execution_count": null,
   "metadata": {},
   "outputs": [],
   "source": [
    "json_path_Subject = 'Sub030\\\\Beelitz'\n",
    "\n",
    "all_json_files = glob.glob(os.path.join(json_path_project, json_path_Subject, '*.json'))\n",
    "filtered_files = [file for file in all_json_files if not os.path.basename(file).startswith('MetaTable') and not os.path.basename(file).startswith('Sub')]\n",
    "filtered_files"
   ]
  },
  {
   "cell_type": "code",
   "execution_count": null,
   "metadata": {},
   "outputs": [],
   "source": [
    "'''with open(os.path.join(json_path, 'Report_Json_Session_Report_20200605T115803.json')) as file:\n",
    "            # Load the JSON data\n",
    "            data = json.load(file)\n",
    "'''"
   ]
  },
  {
   "cell_type": "code",
   "execution_count": null,
   "metadata": {},
   "outputs": [],
   "source": [
    "reload(extract_features)\n",
    "SUBID = json_path_Subject.split('\\\\', 1)[0]\n",
    "json_path = os.path.join(json_path_project, json_path_Subject)\n",
    "extract_features.extract_MetaTable(json_path_Subject, json_path, SUBID, filtered_files)"
   ]
  },
  {
   "attachments": {},
   "cell_type": "markdown",
   "metadata": {},
   "source": [
    "### 2. Merging all Dataframes together for each subject"
   ]
  },
  {
   "cell_type": "code",
   "execution_count": null,
   "metadata": {},
   "outputs": [],
   "source": [
    "mySub = SUBID\n",
    "All_MetaTables_ThisSub_path = os.path.join(json_path_project, mySub)\n",
    "\n",
    "# Initialize an empty list to store the DataFrames\n",
    "dfs = []\n",
    "\n",
    "# Iterate through the files in the directory\n",
    "for filename in os.listdir(All_MetaTables_ThisSub_path):\n",
    "    if filename.endswith(\".json\"):\n",
    "        # Construct the full file path\n",
    "        file_path = os.path.join(All_MetaTables_ThisSub_path, filename)\n",
    "        \n",
    "        # Read the JSON file and append the DataFrame to the list\n",
    "        df = pd.read_json(file_path)\n",
    "        dfs.append(df)\n",
    "\n",
    "# Concatenate all DataFrames into a single DataFrame\n",
    "All_MetaTables_ThisSub_Combined = pd.concat(dfs, ignore_index=True)\n",
    "conversion_factor = 24 * 60 * 60\n",
    "All_MetaTables_ThisSub_Combined['AccumulatedTherapyOnTimeSinceImplant_Initial_Days'] = All_MetaTables_ThisSub_Combined['AccumulatedTherapyOnTimeSinceImplant_Initial'] / conversion_factor\n",
    "All_MetaTables_ThisSub_Combined.sort_values('AccumulatedTherapyOnTimeSinceImplant_Initial', inplace=True)\n",
    "All_MetaTables_ThisSub_Combined.tail()"
   ]
  },
  {
   "cell_type": "code",
   "execution_count": null,
   "metadata": {},
   "outputs": [],
   "source": [
    "'''All_MetaTables_ThisSub_Combined = pd.read_json(os.path.join(\n",
    "    'C:\\\\Users\\\\mathiopv\\\\OneDrive - Charité - Universitätsmedizin Berlin\\\\BATTERY_LIFE\\\\results\\\\MetaTable_Alls',\n",
    "    'Sub005_MetaTable_All.json'\n",
    "))\n",
    "\n",
    "All_MetaTables_ThisSub_Combined.head()'''"
   ]
  },
  {
   "attachments": {},
   "cell_type": "markdown",
   "metadata": {},
   "source": [
    "#### 2.1 Curating the Merged Df: Duplicates"
   ]
  },
  {
   "cell_type": "code",
   "execution_count": null,
   "metadata": {},
   "outputs": [],
   "source": [
    "duplicates = All_MetaTables_ThisSub_Combined.duplicated(subset=['SessionDate', 'AccumulatedTherapyOnTimeSinceImplant_Initial'], keep=False)\n",
    "duplicate_indices = duplicates[duplicates].index.tolist()\n",
    "duplicate_rows = All_MetaTables_ThisSub_Combined[duplicates]\n",
    "\n",
    "duplicate_rows"
   ]
  },
  {
   "cell_type": "code",
   "execution_count": null,
   "metadata": {},
   "outputs": [],
   "source": [
    "All_MetaTables_ThisSub_Combined.drop_duplicates(subset=['SessionDate', 'AccumulatedTherapyOnTimeSinceImplant_Initial'], keep='first', inplace=True)"
   ]
  },
  {
   "cell_type": "code",
   "execution_count": null,
   "metadata": {},
   "outputs": [],
   "source": [
    "'''# Get the last row of 'BatteryPercentage' for each unique 'Con_Reason' value\n",
    "last_battery_percentages = All_MetaTables_ThisSub_Combined.groupby('Con_Reason')['BatteryPercentage'].last()\n",
    "\n",
    "# Calculate the sum of 'overallSensingDurSec' for each unique 'Con_Reason' value\n",
    "sum_sensing_duration = All_MetaTables_ThisSub_Combined.groupby('Con_Reason')['overallSensingDurSec'].sum()/60\n",
    "sum_telemetry_duration = All_MetaTables_ThisSub_Combined.groupby('Con_Reason')['telemetry_durationSec'].sum()/60\n",
    "\n",
    "# Iterate through unique 'Con_Reason' values\n",
    "for con_reason in All_MetaTables_ThisSub_Combined['Con_Reason'].unique():\n",
    "    print(f\"Last Battery Percentage for {con_reason}: {last_battery_percentages[con_reason]}\")\n",
    "    print(f\"Sum of overallSensingDurSec for {con_reason}: {sum_sensing_duration[con_reason]}\")\n",
    "    print(f\"Sum of telemetry_durationSec for {con_reason}: {sum_telemetry_duration[con_reason]}\")\n",
    "    print()'''"
   ]
  },
  {
   "attachments": {},
   "cell_type": "markdown",
   "metadata": {},
   "source": [
    "#### 2.2 Curating the Merged Df: Determine Follow-Up"
   ]
  },
  {
   "cell_type": "code",
   "execution_count": null,
   "metadata": {},
   "outputs": [],
   "source": [
    "%matplotlib qt\n",
    "plt.scatter(All_MetaTables_ThisSub_Combined['AccumulatedTherapyOnTimeSinceImplant_Initial_Days'], All_MetaTables_ThisSub_Combined['BatteryPercentage'])\n",
    "plt.show()"
   ]
  },
  {
   "cell_type": "code",
   "execution_count": null,
   "metadata": {},
   "outputs": [],
   "source": [
    "postOp_cutoff = 50\n",
    "fu3m_cutoff = 200\n",
    "fu12_cutoff = 1000\n",
    "\n",
    "All_MetaTables_ThisSub_Combined.loc[\n",
    "    All_MetaTables_ThisSub_Combined['AccumulatedTherapyOnTimeSinceImplant_Initial_Days'] < postOp_cutoff, 'FollowUp'] = 'FU0M'\n",
    "\n",
    "All_MetaTables_ThisSub_Combined.loc[\n",
    "    (All_MetaTables_ThisSub_Combined['AccumulatedTherapyOnTimeSinceImplant_Initial_Days'] > postOp_cutoff) &\n",
    "    (All_MetaTables_ThisSub_Combined['AccumulatedTherapyOnTimeSinceImplant_Initial_Days'] < fu3m_cutoff), 'FollowUp'] = 'FU3M'\n",
    "\n",
    "All_MetaTables_ThisSub_Combined.loc[\n",
    "    All_MetaTables_ThisSub_Combined['AccumulatedTherapyOnTimeSinceImplant_Initial_Days'] >fu3m_cutoff, 'FollowUp'] = 'FU12M'\n",
    "\n",
    "All_MetaTables_ThisSub_Combined.loc[\n",
    "All_MetaTables_ThisSub_Combined['AccumulatedTherapyOnTimeSinceImplant_Initial_Days'] >fu12_cutoff, 'FollowUp'] = 'FU24M'\n",
    "\n",
    "All_MetaTables_ThisSub_Combined.loc[\n",
    "    All_MetaTables_ThisSub_Combined['Con_Reason'] == 'Beelitz', 'FollowUp'] = 'Beelitz'\n",
    "\n",
    "import pandas as pd\n",
    "\n",
    "# Calculate mean of 'overallSensingDurSec' for rows where 'Con_Reason' is 'Ambulant'\n",
    "mean_dur = All_MetaTables_ThisSub_Combined.loc[All_MetaTables_ThisSub_Combined['Con_Reason'] == 'Ambulant', 'overallSensingDurSec'].mean()\n",
    "\n",
    "# Update 'Con_Reason' column based on the mean value\n",
    "All_MetaTables_ThisSub_Combined.loc[All_MetaTables_ThisSub_Combined['Con_Reason'] == 'Ambulant', 'Con_Reason'] = \\\n",
    "    All_MetaTables_ThisSub_Combined.loc[All_MetaTables_ThisSub_Combined['Con_Reason'] == 'Ambulant'].apply(lambda row: 'Forschung' if row['overallSensingDurSec'] >= 10 else 'Ward', axis=1)\n",
    "\n",
    "\n",
    "#All_MetaTables_ThisSub_Combined['Con_Reason'] = All_MetaTables_ThisSub_Combined['Con_Reason'].apply(lambda x: 'Forschung' if x == 'True' else 'Ward')\n"
   ]
  },
  {
   "cell_type": "code",
   "execution_count": null,
   "metadata": {},
   "outputs": [],
   "source": [
    "#All_MetaTables_ThisSub_Combined.at[35, 'telemetry_durationSec'] = np.nan\n",
    "All_MetaTables_ThisSub_Combined"
   ]
  },
  {
   "attachments": {},
   "cell_type": "markdown",
   "metadata": {},
   "source": [
    "## If all is Ok, save Dataframe Now!"
   ]
  },
  {
   "cell_type": "code",
   "execution_count": null,
   "metadata": {},
   "outputs": [],
   "source": [
    "MetaTable_Results_Path = 'C:\\\\Users\\\\mathiopv\\\\OneDrive - Charité - Universitätsmedizin Berlin\\\\BATTERY_LIFE\\\\results\\\\MetaTable_Alls'\n",
    "\n",
    "All_MetaTables_ThisSub_Combined.to_json(os.path.join(\n",
    "    MetaTable_Results_Path,\n",
    "    f'{mySub}_MetaTable_All.json'), \n",
    "    orient='records')"
   ]
  },
  {
   "attachments": {},
   "cell_type": "markdown",
   "metadata": {},
   "source": [
    "### 3. Make average features for each follow-up and save them"
   ]
  },
  {
   "cell_type": "code",
   "execution_count": null,
   "metadata": {},
   "outputs": [],
   "source": [
    "sums = {}\n",
    "# Get the unique time points in the order they appear\n",
    "time_points = All_MetaTables_ThisSub_Combined['FollowUp'].unique()\n",
    "\n",
    "# Sort the time points based on their first occurrence in the DataFrame\n",
    "time_points_sorted = sorted(time_points, key=lambda x: np.where(All_MetaTables_ThisSub_Combined['FollowUp'] == x)[0][0])\n",
    "# Get the corresponding y-values (last battery values)\n",
    "last_battery_values = All_MetaTables_ThisSub_Combined.groupby('FollowUp')['BatteryPercentage'].last()\n",
    "y_values = [last_battery_values[tp] if tp in last_battery_values.index else 0 for tp in time_points_sorted]\n",
    "\n",
    "\n",
    "for tp in time_points_sorted:\n",
    "    subset = All_MetaTables_ThisSub_Combined[All_MetaTables_ThisSub_Combined['FollowUp'] == tp]\n",
    "    telemetry_sum = subset['telemetry_durationSec'].sum()\n",
    "    sensing_sum = subset['overallSensingDurSec'].sum()\n",
    "    last_battery_value = last_battery_values[tp] if tp in last_battery_values.index else None\n",
    "    sums[tp] = {\n",
    "        'Telemetry Duration Sum': telemetry_sum,\n",
    "        'Sensing Duration Sum': sensing_sum,\n",
    "        'Last Battery Value': last_battery_value\n",
    "    }\n",
    "\n",
    "# Print the sums dictionary\n",
    "for tp, values in sums.items():\n",
    "    print(f\"FollowUp: {tp}, Sums: {values}\")\n"
   ]
  },
  {
   "cell_type": "code",
   "execution_count": null,
   "metadata": {},
   "outputs": [],
   "source": [
    "sums"
   ]
  },
  {
   "cell_type": "code",
   "execution_count": null,
   "metadata": {},
   "outputs": [],
   "source": [
    "'''AvgValues_ThisSub_Combined_FileName = f'{mySub}_TotalValues.json'\n",
    "results_path_object = 'C:\\\\Users\\\\mathiopv\\\\OneDrive - Charité - Universitätsmedizin Berlin\\\\BATTERY_LIFE\\\\results\\\\Avg_Features'\n",
    "\n",
    "with open(os.path.join(\n",
    "        results_path_object, \n",
    "        AvgValues_ThisSub_Combined_FileName), 'w') as json_file:\n",
    "            json.dump(sums, json_file)'''"
   ]
  },
  {
   "attachments": {},
   "cell_type": "markdown",
   "metadata": {},
   "source": [
    "### 4. Plot average features and save the overview plot!"
   ]
  },
  {
   "cell_type": "code",
   "execution_count": null,
   "metadata": {},
   "outputs": [],
   "source": [
    "\n",
    "# Extract the data for each subplot\n",
    "last_battery_values = [sums[tp]['Last Battery Value'] for tp in time_points_sorted]\n",
    "telemetry_sums = [sums[tp]['Telemetry Duration Sum'] for tp in time_points_sorted]\n",
    "sensing_sums = [sums[tp]['Sensing Duration Sum'] for tp in time_points_sorted]\n",
    "\n",
    "for i in range(len(telemetry_sums)):\n",
    "    telemetry_sums[i] /= 60\n",
    "\n",
    "for i in range(len(sensing_sums)):\n",
    "    sensing_sums[i] /= 60\n",
    "\n",
    "# Set up the subplots\n",
    "fig, (ax1, ax2) = plt.subplots(1, 2, figsize=(8, 4))\n",
    "\n",
    "# First subplot - 'Last Battery Value'\n",
    "ax1.bar(time_points_sorted, last_battery_values)\n",
    "ax1.set_ylabel('IPG Battery [%]')\n",
    "ax1.set_ylim(60,100)\n",
    "\n",
    "# Second subplot - Stacked bar plots\n",
    "ind = np.arange(len(time_points_sorted))\n",
    "width = 0.7\n",
    "ax2.bar(ind, telemetry_sums, width)\n",
    "ax2.bar(ind, sensing_sums, width, label='Sensing Duration Sum')\n",
    "ax2.set_ylabel('Total Duration [min]')\n",
    "ax2.set_xticks(ind)\n",
    "ax2.set_xticklabels(time_points_sorted)\n",
    "ax2.legend()\n",
    "\n",
    "fig_title = f\"{All_MetaTables_ThisSub_Combined['SubID'].unique()[0]}-Overview\"\n",
    "plt.suptitle(fig_title)\n",
    "# Adjust spacing between subplots\n",
    "plt.tight_layout()\n",
    "\n",
    "# Display the plot\n",
    "plt.show()\n"
   ]
  },
  {
   "cell_type": "code",
   "execution_count": null,
   "metadata": {},
   "outputs": [],
   "source": [
    "AvgValues_ThisSub_FigName = f'{mySub}_Overview'\n",
    "figures_path_object = 'C:\\\\Users\\\\mathiopv\\\\OneDrive - Charité - Universitätsmedizin Berlin\\\\BATTERY_LIFE\\\\figures'\n",
    "\n",
    "fig.savefig(os.path.join(\n",
    "        figures_path_object, AvgValues_ThisSub_FigName),\n",
    "        dpi = 150)"
   ]
  },
  {
   "attachments": {},
   "cell_type": "markdown",
   "metadata": {},
   "source": [
    "### 5. Extract Average Features for Each subject"
   ]
  },
  {
   "cell_type": "code",
   "execution_count": null,
   "metadata": {},
   "outputs": [],
   "source": [
    "MetaTable_all_path = 'C:\\\\Users\\\\mathiopv\\\\OneDrive - Charité - Universitätsmedizin Berlin\\\\BATTERY_LIFE\\\\results\\\\MetaTable_Alls'\n",
    "\n",
    "for filename in os.listdir(MetaTable_all_path):\n",
    "    if filename.endswith('.json'):\n",
    "        file_path = os.path.join(MetaTable_all_path, filename)\n",
    "        \n",
    "        thisMetaTable = pd.read_json(file_path)\n",
    "\n",
    "\n",
    "        sums = {}\n",
    "        # Get the unique time points in the order they appear\n",
    "        time_points = thisMetaTable['FollowUp'].unique()\n",
    "\n",
    "        # Sort the time points based on their first occurrence in the DataFrame\n",
    "        time_points_sorted = sorted(time_points, key=lambda x: np.where(thisMetaTable['FollowUp'] == x)[0][0])\n",
    "        # Get the corresponding y-values (last battery values)\n",
    "        last_battery_values = thisMetaTable.groupby('FollowUp')['BatteryPercentage'].last()\n",
    "        y_values = [last_battery_values[tp] if tp in last_battery_values.index else 0 for tp in time_points_sorted]\n",
    "\n",
    "\n",
    "        for tp in time_points_sorted:\n",
    "            subset = thisMetaTable[thisMetaTable['FollowUp'] == tp]\n",
    "            telemetry_sum = subset['telemetry_durationSec'].sum()\n",
    "            sensing_sum = subset['overallSensingDurSec'].sum()\n",
    "            last_battery_value = last_battery_values[tp] if tp in last_battery_values.index else None\n",
    "            sums[tp] = {\n",
    "                'Telemetry Duration Sum': telemetry_sum,\n",
    "                'Sensing Duration Sum': sensing_sum,\n",
    "                'Last Battery Value': last_battery_value\n",
    "            }\n",
    "\n",
    "        Avg_Features_path = 'C:\\\\Users\\\\mathiopv\\\\OneDrive - Charité - Universitätsmedizin Berlin\\\\BATTERY_LIFE\\\\results\\\\Avg_Features'\n",
    "        Avg_Features_FileName = f\"{thisMetaTable['SubID'][0]}_AvgFeatures.json\"\n",
    "\n",
    "        class NumpyEncoder(json.JSONEncoder):\n",
    "            def default(self, obj):\n",
    "                if isinstance(obj, np.int64):\n",
    "                    return int(obj)\n",
    "                return super(NumpyEncoder, self).default(obj)\n",
    "\n",
    "        my_dict = json.dumps(sums, cls=NumpyEncoder)\n",
    "\n",
    "        with open(os.path.join(\n",
    "            Avg_Features_path,\n",
    "            Avg_Features_FileName\n",
    "        ), 'w') as file:\n",
    "            json.dump(my_dict, file)"
   ]
  },
  {
   "attachments": {},
   "cell_type": "markdown",
   "metadata": {},
   "source": [
    "### 6. Find first 12mfu connection"
   ]
  },
  {
   "cell_type": "code",
   "execution_count": null,
   "metadata": {},
   "outputs": [],
   "source": [
    "MetaTable_all_path = 'C:\\\\Users\\\\mathiopv\\\\OneDrive - Charité - Universitätsmedizin Berlin\\\\BATTERY_LIFE\\\\results\\\\MetaTable_Alls'\n",
    "MetaTable_FileName = 'Sub030_MetaTable_All.json'\n",
    "\n",
    "thisMetaTable = pd.read_json(os.path.join(\n",
    "    MetaTable_all_path,\n",
    "    MetaTable_FileName\n",
    "))\n",
    "\n",
    "fu12m_subset = thisMetaTable[thisMetaTable['FollowUp']=='FU12M']\n",
    "fu12m_subset = fu12m_subset.reset_index(drop=True)\n",
    "fu12m_subset"
   ]
  },
  {
   "cell_type": "code",
   "execution_count": null,
   "metadata": {},
   "outputs": [],
   "source": [
    "fu12m_subset.loc[0,'json_fileName']"
   ]
  },
  {
   "cell_type": "code",
   "execution_count": null,
   "metadata": {},
   "outputs": [],
   "source": []
  }
 ],
 "metadata": {
  "kernelspec": {
   "display_name": "base",
   "language": "python",
   "name": "python3"
  },
  "language_info": {
   "codemirror_mode": {
    "name": "ipython",
    "version": 3
   },
   "file_extension": ".py",
   "mimetype": "text/x-python",
   "name": "python",
   "nbconvert_exporter": "python",
   "pygments_lexer": "ipython3",
   "version": "3.9.13"
  },
  "orig_nbformat": 4
 },
 "nbformat": 4,
 "nbformat_minor": 2
}
