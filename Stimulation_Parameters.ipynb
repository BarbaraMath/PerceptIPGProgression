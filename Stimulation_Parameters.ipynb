{
 "cells": [
  {
   "cell_type": "code",
   "execution_count": null,
   "metadata": {},
   "outputs": [],
   "source": [
    "import pandas as pd\n",
    "from matplotlib import pyplot as plt\n",
    "import glob\n",
    "from importlib import reload\n",
    "import extract_features\n",
    "import os\n",
    "import numpy as np\n",
    "import json\n",
    "\n",
    "json_path_project = 'S:\\\\AG\\\\AG-Bewegungsstoerungen-II\\\\LFP\\\\PROJECTS\\BATTERY\\\\'\n",
    "json_path_onedrive = 'C:\\\\Users\\\\mathiopv\\\\OneDrive - Charité - Universitätsmedizin Berlin\\\\BATTERY_LIFE\\\\'"
   ]
  },
  {
   "cell_type": "markdown",
   "metadata": {},
   "source": [
    "### 1. Extract Stimulation Parameters"
   ]
  },
  {
   "cell_type": "code",
   "execution_count": null,
   "metadata": {},
   "outputs": [],
   "source": [
    "json_files_to_match = pd.read_excel(os.path.join(\n",
    "    json_path_onedrive, 'results', 'Stim_pars', 'Done',\n",
    "    'Jsons_12mfu_StimPars_ToExtract.xlsx'\n",
    "))\n",
    "\n",
    "#json_files_to_match = json_files_to_match.drop(2)\n",
    "json_files_to_match"
   ]
  },
  {
   "cell_type": "code",
   "execution_count": null,
   "metadata": {},
   "outputs": [],
   "source": [
    "import pickle\n",
    "reload(extract_features)\n",
    "saving_path = os.path.join(\n",
    "    json_path_onedrive, 'results', 'Stim_pars', 'Done'\n",
    ")\n",
    "\n",
    "#for index, row in json_files_to_match.iterrows():\n",
    "\n",
    "index = 26 \n",
    "json_12mfu_stimPars = os.path.join(\n",
    "    json_path_project, \n",
    "    json_files_to_match.loc[index,'SubID'],\n",
    "    json_files_to_match.loc[index,'Con_reason'],\n",
    "    json_files_to_match.loc[index,'json_fileName']\n",
    ")\n",
    "\n",
    "with open(json_12mfu_stimPars) as file:\n",
    "            # Load the JSON data\n",
    "            data = json.load(file)\n",
    "\n",
    "ElectrodeType = str(json_files_to_match.loc[index,'ElectrodeType'])\n",
    "\n",
    "stim_pars_dict = extract_features.extract_StimPars(data, ElectrodeType)\n",
    "\n",
    "subID = json_files_to_match.loc[index,'SubID']\n",
    "saving_json_name = f'{subID}_StimPars_12mfu.pkl'\n",
    "\n",
    "with open(os.path.join(\n",
    "            saving_path,\n",
    "            saving_json_name\n",
    "        ), \"wb\") as file:\n",
    "            pickle.dump(stim_pars_dict, file)"
   ]
  },
  {
   "cell_type": "markdown",
   "metadata": {},
   "source": [
    "### 2. Calculate TEED"
   ]
  },
  {
   "cell_type": "code",
   "execution_count": null,
   "metadata": {},
   "outputs": [],
   "source": [
    "stims_path = os.path.join(\n",
    "    json_path_onedrive, 'results', 'Stim_pars', 'Done'\n",
    ")\n",
    "\n",
    "stim_pars_FileName = \"Sub047_StimPars_12mfu.pkl\"\n",
    "\n",
    "with open(os.path.join(stims_path,\n",
    "    stim_pars_FileName), \"rb\") as file:\n",
    "    stim_dat = pickle.load(file)\n",
    "\n",
    "subID = stim_pars_FileName.split('_')[0]"
   ]
  },
  {
   "cell_type": "code",
   "execution_count": null,
   "metadata": {},
   "outputs": [],
   "source": [
    "reload(extract_features)\n",
    "\n",
    "ElectrodeType = 'SenSight'\n",
    "voltage_L, TEED_L, voltage_R, TEED_R = extract_features.calculate_TEDD(stim_dat, ElectrodeType)"
   ]
  },
  {
   "cell_type": "code",
   "execution_count": null,
   "metadata": {},
   "outputs": [],
   "source": [
    "df = pd.DataFrame(stim_dat)\n",
    "df.insert(0, 'SubID', subID)\n",
    "\n",
    "df['Voltage'] = [voltage_L, voltage_R]\n",
    "df['TEDD'] = [TEED_L, TEED_R]\n",
    "df"
   ]
  },
  {
   "cell_type": "code",
   "execution_count": null,
   "metadata": {},
   "outputs": [],
   "source": [
    "df.to_csv(\n",
    "    os.path.join(\n",
    "        json_path_onedrive,\n",
    "        'results',\n",
    "        'Stim_pars',\n",
    "        'TEED',\n",
    "        f'{subID}_TEDD.csv'\n",
    "    ), index=False)  # Specify the desired file name\n"
   ]
  }
 ],
 "metadata": {
  "kernelspec": {
   "display_name": "base",
   "language": "python",
   "name": "python3"
  },
  "language_info": {
   "codemirror_mode": {
    "name": "ipython",
    "version": 3
   },
   "file_extension": ".py",
   "mimetype": "text/x-python",
   "name": "python",
   "nbconvert_exporter": "python",
   "pygments_lexer": "ipython3",
   "version": "3.9.13"
  },
  "orig_nbformat": 4
 },
 "nbformat": 4,
 "nbformat_minor": 2
}
